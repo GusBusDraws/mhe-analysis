{
 "cells": [
  {
   "cell_type": "code",
   "execution_count": 23,
   "metadata": {},
   "outputs": [
    {
     "name": "stdout",
     "output_type": "stream",
     "text": [
      "The autoreload extension is already loaded. To reload it, use:\n",
      "  %reload_ext autoreload\n"
     ]
    }
   ],
   "source": [
    "import matplotlib.pyplot as plt\n",
    "import numpy as np\n",
    "import pandas as pd\n",
    "from pathlib import Path\n",
    "from scipy import spatial\n",
    "from segmentflow import segment, view\n",
    "from skimage import measure\n",
    "%load_ext autoreload\n",
    "%autoreload 2"
   ]
  },
  {
   "cell_type": "markdown",
   "metadata": {},
   "source": [
    "## Particle to binder ratio"
   ]
  },
  {
   "cell_type": "code",
   "execution_count": 5,
   "metadata": {},
   "outputs": [
    {
     "name": "stdout",
     "output_type": "stream",
     "text": [
      "Loading images...\n",
      "--> Images loaded as 3D array:  (1010, 630, 630)\n",
      "Calculating voxel statistics...\n",
      "--> Voxel ratio of binder to particles: 3.847485693234297\n"
     ]
    }
   ],
   "source": [
    "imgs_labeled = segment.load_images(\n",
    "    Path('../results/IP_01/IP_01_labeled_voxels'), file_suffix='.tif')\n",
    "segment.calc_voxel_stats(imgs_labeled)"
   ]
  },
  {
   "cell_type": "code",
   "execution_count": 8,
   "metadata": {},
   "outputs": [
    {
     "name": "stdout",
     "output_type": "stream",
     "text": [
      "n_voxels=400869000\n",
      "n_void=251483728\n",
      "n_binder=118568209\n",
      "n_particles=30817063\n",
      "n_remainder=0\n",
      "n_binder/n_particles=3.847485693234297\n"
     ]
    }
   ],
   "source": [
    "n_voxels = imgs_labeled.shape[0] * imgs_labeled.shape[1] * imgs_labeled.shape[2]\n",
    "print(f'{n_voxels=}')\n",
    "n_void = np.count_nonzero(imgs_labeled == 0)\n",
    "print(f'{n_void=}')\n",
    "n_binder = np.count_nonzero(imgs_labeled == 1)\n",
    "print(f'{n_binder=}')\n",
    "n_particles = np.count_nonzero(imgs_labeled > 1)\n",
    "print(f'{n_particles=}')\n",
    "n_remainder = n_voxels - n_void - n_binder - n_particles\n",
    "print(f'{n_remainder=}')\n",
    "print(f'{n_binder/n_particles=}')\n",
    "density_binder = 2  # g/cm3\n",
    "density_particles = 2.65  # g/cm3\n",
    "mass_ratio = n_binder / n_particles * density_binder / density_particles\n",
    "print(f'{mass_ratio=}')"
   ]
  },
  {
   "cell_type": "code",
   "execution_count": 3,
   "metadata": {},
   "outputs": [
    {
     "data": {
      "text/plain": [
       "2.9033962264150945"
      ]
     },
     "execution_count": 3,
     "metadata": {},
     "output_type": "execute_result"
    }
   ],
   "source": [
    "3.847 * 2 / 2.65"
   ]
  },
  {
   "cell_type": "code",
   "execution_count": 35,
   "metadata": {},
   "outputs": [
    {
     "data": {
      "text/html": [
       "<div>\n",
       "<style scoped>\n",
       "    .dataframe tbody tr th:only-of-type {\n",
       "        vertical-align: middle;\n",
       "    }\n",
       "\n",
       "    .dataframe tbody tr th {\n",
       "        vertical-align: top;\n",
       "    }\n",
       "\n",
       "    .dataframe thead th {\n",
       "        text-align: right;\n",
       "    }\n",
       "</style>\n",
       "<table border=\"1\" class=\"dataframe\">\n",
       "  <thead>\n",
       "    <tr style=\"text-align: right;\">\n",
       "      <th></th>\n",
       "      <th>label</th>\n",
       "      <th>volume</th>\n",
       "      <th>bbox-0</th>\n",
       "      <th>bbox-1</th>\n",
       "      <th>bbox-2</th>\n",
       "      <th>bbox-3</th>\n",
       "      <th>bbox-4</th>\n",
       "      <th>bbox-5</th>\n",
       "    </tr>\n",
       "  </thead>\n",
       "  <tbody>\n",
       "    <tr>\n",
       "      <th>0</th>\n",
       "      <td>1</td>\n",
       "      <td>118568209</td>\n",
       "      <td>0</td>\n",
       "      <td>12</td>\n",
       "      <td>2</td>\n",
       "      <td>1010</td>\n",
       "      <td>624</td>\n",
       "      <td>625</td>\n",
       "    </tr>\n",
       "    <tr>\n",
       "      <th>1</th>\n",
       "      <td>6</td>\n",
       "      <td>47</td>\n",
       "      <td>2</td>\n",
       "      <td>270</td>\n",
       "      <td>319</td>\n",
       "      <td>6</td>\n",
       "      <td>274</td>\n",
       "      <td>325</td>\n",
       "    </tr>\n",
       "    <tr>\n",
       "      <th>2</th>\n",
       "      <td>9</td>\n",
       "      <td>1</td>\n",
       "      <td>3</td>\n",
       "      <td>396</td>\n",
       "      <td>327</td>\n",
       "      <td>4</td>\n",
       "      <td>397</td>\n",
       "      <td>328</td>\n",
       "    </tr>\n",
       "    <tr>\n",
       "      <th>3</th>\n",
       "      <td>10</td>\n",
       "      <td>15</td>\n",
       "      <td>3</td>\n",
       "      <td>291</td>\n",
       "      <td>337</td>\n",
       "      <td>6</td>\n",
       "      <td>293</td>\n",
       "      <td>341</td>\n",
       "    </tr>\n",
       "    <tr>\n",
       "      <th>4</th>\n",
       "      <td>13</td>\n",
       "      <td>128</td>\n",
       "      <td>2</td>\n",
       "      <td>250</td>\n",
       "      <td>351</td>\n",
       "      <td>7</td>\n",
       "      <td>258</td>\n",
       "      <td>358</td>\n",
       "    </tr>\n",
       "    <tr>\n",
       "      <th>...</th>\n",
       "      <td>...</td>\n",
       "      <td>...</td>\n",
       "      <td>...</td>\n",
       "      <td>...</td>\n",
       "      <td>...</td>\n",
       "      <td>...</td>\n",
       "      <td>...</td>\n",
       "      <td>...</td>\n",
       "    </tr>\n",
       "    <tr>\n",
       "      <th>16621</th>\n",
       "      <td>16634</td>\n",
       "      <td>355</td>\n",
       "      <td>999</td>\n",
       "      <td>227</td>\n",
       "      <td>331</td>\n",
       "      <td>1008</td>\n",
       "      <td>237</td>\n",
       "      <td>339</td>\n",
       "    </tr>\n",
       "    <tr>\n",
       "      <th>16622</th>\n",
       "      <td>16635</td>\n",
       "      <td>160</td>\n",
       "      <td>1000</td>\n",
       "      <td>245</td>\n",
       "      <td>333</td>\n",
       "      <td>1007</td>\n",
       "      <td>252</td>\n",
       "      <td>341</td>\n",
       "    </tr>\n",
       "    <tr>\n",
       "      <th>16623</th>\n",
       "      <td>16636</td>\n",
       "      <td>48</td>\n",
       "      <td>1002</td>\n",
       "      <td>262</td>\n",
       "      <td>349</td>\n",
       "      <td>1007</td>\n",
       "      <td>268</td>\n",
       "      <td>354</td>\n",
       "    </tr>\n",
       "    <tr>\n",
       "      <th>16624</th>\n",
       "      <td>16637</td>\n",
       "      <td>58</td>\n",
       "      <td>1002</td>\n",
       "      <td>286</td>\n",
       "      <td>397</td>\n",
       "      <td>1006</td>\n",
       "      <td>296</td>\n",
       "      <td>400</td>\n",
       "    </tr>\n",
       "    <tr>\n",
       "      <th>16625</th>\n",
       "      <td>16639</td>\n",
       "      <td>65</td>\n",
       "      <td>1003</td>\n",
       "      <td>348</td>\n",
       "      <td>266</td>\n",
       "      <td>1008</td>\n",
       "      <td>354</td>\n",
       "      <td>272</td>\n",
       "    </tr>\n",
       "  </tbody>\n",
       "</table>\n",
       "<p>16626 rows × 8 columns</p>\n",
       "</div>"
      ],
      "text/plain": [
       "       label     volume  bbox-0  bbox-1  bbox-2  bbox-3  bbox-4  bbox-5\n",
       "0          1  118568209       0      12       2    1010     624     625\n",
       "1          6         47       2     270     319       6     274     325\n",
       "2          9          1       3     396     327       4     397     328\n",
       "3         10         15       3     291     337       6     293     341\n",
       "4         13        128       2     250     351       7     258     358\n",
       "...      ...        ...     ...     ...     ...     ...     ...     ...\n",
       "16621  16634        355     999     227     331    1008     237     339\n",
       "16622  16635        160    1000     245     333    1007     252     341\n",
       "16623  16636         48    1002     262     349    1007     268     354\n",
       "16624  16637         58    1002     286     397    1006     296     400\n",
       "16625  16639         65    1003     348     266    1008     354     272\n",
       "\n",
       "[16626 rows x 8 columns]"
      ]
     },
     "execution_count": 35,
     "metadata": {},
     "output_type": "execute_result"
    }
   ],
   "source": [
    "regions_df = pd.DataFrame(measure.regionprops_table(\n",
    "    imgs_labeled, properties=['label', 'area', 'bbox']))\n",
    "regions_df = regions_df.rename(columns={'area' : 'volume'})\n",
    "regions_df"
   ]
  },
  {
   "cell_type": "markdown",
   "metadata": {},
   "source": [
    "## Mesh particles using Delaunay triangulation"
   ]
  },
  {
   "cell_type": "code",
   "execution_count": 38,
   "metadata": {},
   "outputs": [
    {
     "name": "stdout",
     "output_type": "stream",
     "text": [
      "(47, 3)\n"
     ]
    },
    {
     "data": {
      "text/plain": [
       "scipy.spatial._qhull.Delaunay"
      ]
     },
     "execution_count": 38,
     "metadata": {},
     "output_type": "execute_result"
    }
   ],
   "source": [
    "imgs_single_grain = np.zeros_like(imgs_labeled)\n",
    "imgs_single_grain[imgs_labeled == 6] = 1\n",
    "# Return nonzero coords in row-major order (row, col, slice)\n",
    "coords_tuple = np.nonzero(imgs_single_grain)\n",
    "# Transpose nonzeros coords in xyz order\n",
    "coords_xyz = np.transpose([coords_tuple[1], coords_tuple[0], coords_tuple[2]])\n",
    "print(coords_xyz.shape)\n",
    "tri = spatial.Delaunay(coords_xyz)\n",
    "type(tri)"
   ]
  },
  {
   "cell_type": "markdown",
   "metadata": {},
   "source": [
    "## Simplify mesh by size"
   ]
  },
  {
   "cell_type": "markdown",
   "metadata": {},
   "source": [
    " - [ ] load mesh\n",
    " - [ ] check number of vertices/tris (np.unique?)\n",
    " - [ ] find small & large grain examples\n",
    " - [ ] explore different methods of controlling grain size"
   ]
  },
  {
   "cell_type": "code",
   "execution_count": 26,
   "metadata": {},
   "outputs": [
    {
     "data": {
      "text/html": [
       "<div>\n",
       "<style scoped>\n",
       "    .dataframe tbody tr th:only-of-type {\n",
       "        vertical-align: middle;\n",
       "    }\n",
       "\n",
       "    .dataframe tbody tr th {\n",
       "        vertical-align: top;\n",
       "    }\n",
       "\n",
       "    .dataframe thead th {\n",
       "        text-align: right;\n",
       "    }\n",
       "</style>\n",
       "<table border=\"1\" class=\"dataframe\">\n",
       "  <thead>\n",
       "    <tr style=\"text-align: right;\">\n",
       "      <th></th>\n",
       "      <th>particleID</th>\n",
       "      <th>meshed</th>\n",
       "      <th>n_voxels</th>\n",
       "      <th>centroid</th>\n",
       "      <th>min_slice</th>\n",
       "      <th>max_slice</th>\n",
       "      <th>min_row</th>\n",
       "      <th>max_row</th>\n",
       "      <th>min_col</th>\n",
       "      <th>max_col</th>\n",
       "    </tr>\n",
       "  </thead>\n",
       "  <tbody>\n",
       "    <tr>\n",
       "      <th>0</th>\n",
       "      <td>1</td>\n",
       "      <td>True</td>\n",
       "      <td>125490261</td>\n",
       "      <td>497, 508, 478</td>\n",
       "      <td>0</td>\n",
       "      <td>996</td>\n",
       "      <td>18</td>\n",
       "      <td>996</td>\n",
       "      <td>5</td>\n",
       "      <td>983</td>\n",
       "    </tr>\n",
       "    <tr>\n",
       "      <th>26</th>\n",
       "      <td>788</td>\n",
       "      <td>True</td>\n",
       "      <td>624</td>\n",
       "      <td>816, 366, 5</td>\n",
       "      <td>2</td>\n",
       "      <td>10</td>\n",
       "      <td>356</td>\n",
       "      <td>377</td>\n",
       "      <td>810</td>\n",
       "      <td>824</td>\n",
       "    </tr>\n",
       "    <tr>\n",
       "      <th>47</th>\n",
       "      <td>828</td>\n",
       "      <td>True</td>\n",
       "      <td>449</td>\n",
       "      <td>147, 286, 6</td>\n",
       "      <td>3</td>\n",
       "      <td>11</td>\n",
       "      <td>277</td>\n",
       "      <td>292</td>\n",
       "      <td>141</td>\n",
       "      <td>154</td>\n",
       "    </tr>\n",
       "    <tr>\n",
       "      <th>53</th>\n",
       "      <td>835</td>\n",
       "      <td>True</td>\n",
       "      <td>1371</td>\n",
       "      <td>879, 544, 5</td>\n",
       "      <td>2</td>\n",
       "      <td>12</td>\n",
       "      <td>526</td>\n",
       "      <td>564</td>\n",
       "      <td>864</td>\n",
       "      <td>891</td>\n",
       "    </tr>\n",
       "    <tr>\n",
       "      <th>70</th>\n",
       "      <td>856</td>\n",
       "      <td>True</td>\n",
       "      <td>702</td>\n",
       "      <td>213, 188, 7</td>\n",
       "      <td>3</td>\n",
       "      <td>14</td>\n",
       "      <td>181</td>\n",
       "      <td>196</td>\n",
       "      <td>206</td>\n",
       "      <td>222</td>\n",
       "    </tr>\n",
       "    <tr>\n",
       "      <th>...</th>\n",
       "      <td>...</td>\n",
       "      <td>...</td>\n",
       "      <td>...</td>\n",
       "      <td>...</td>\n",
       "      <td>...</td>\n",
       "      <td>...</td>\n",
       "      <td>...</td>\n",
       "      <td>...</td>\n",
       "      <td>...</td>\n",
       "      <td>...</td>\n",
       "    </tr>\n",
       "    <tr>\n",
       "      <th>28736</th>\n",
       "      <td>29716</td>\n",
       "      <td>True</td>\n",
       "      <td>336</td>\n",
       "      <td>806, 240, 961</td>\n",
       "      <td>957</td>\n",
       "      <td>966</td>\n",
       "      <td>234</td>\n",
       "      <td>248</td>\n",
       "      <td>802</td>\n",
       "      <td>811</td>\n",
       "    </tr>\n",
       "    <tr>\n",
       "      <th>28772</th>\n",
       "      <td>29752</td>\n",
       "      <td>True</td>\n",
       "      <td>490</td>\n",
       "      <td>762, 179, 963</td>\n",
       "      <td>959</td>\n",
       "      <td>968</td>\n",
       "      <td>173</td>\n",
       "      <td>187</td>\n",
       "      <td>755</td>\n",
       "      <td>768</td>\n",
       "    </tr>\n",
       "    <tr>\n",
       "      <th>28870</th>\n",
       "      <td>29850</td>\n",
       "      <td>True</td>\n",
       "      <td>353</td>\n",
       "      <td>900, 399, 967</td>\n",
       "      <td>962</td>\n",
       "      <td>973</td>\n",
       "      <td>396</td>\n",
       "      <td>404</td>\n",
       "      <td>895</td>\n",
       "      <td>907</td>\n",
       "    </tr>\n",
       "    <tr>\n",
       "      <th>28920</th>\n",
       "      <td>29900</td>\n",
       "      <td>True</td>\n",
       "      <td>1647</td>\n",
       "      <td>912, 373, 969</td>\n",
       "      <td>959</td>\n",
       "      <td>977</td>\n",
       "      <td>362</td>\n",
       "      <td>384</td>\n",
       "      <td>904</td>\n",
       "      <td>919</td>\n",
       "    </tr>\n",
       "    <tr>\n",
       "      <th>29009</th>\n",
       "      <td>29989</td>\n",
       "      <td>True</td>\n",
       "      <td>606</td>\n",
       "      <td>911, 388, 976</td>\n",
       "      <td>971</td>\n",
       "      <td>982</td>\n",
       "      <td>381</td>\n",
       "      <td>396</td>\n",
       "      <td>908</td>\n",
       "      <td>917</td>\n",
       "    </tr>\n",
       "  </tbody>\n",
       "</table>\n",
       "<p>19649 rows × 10 columns</p>\n",
       "</div>"
      ],
      "text/plain": [
       "       particleID  meshed   n_voxels       centroid  min_slice  max_slice  \\\n",
       "0               1    True  125490261  497, 508, 478          0        996   \n",
       "26            788    True        624    816, 366, 5          2         10   \n",
       "47            828    True        449    147, 286, 6          3         11   \n",
       "53            835    True       1371    879, 544, 5          2         12   \n",
       "70            856    True        702    213, 188, 7          3         14   \n",
       "...           ...     ...        ...            ...        ...        ...   \n",
       "28736       29716    True        336  806, 240, 961        957        966   \n",
       "28772       29752    True        490  762, 179, 963        959        968   \n",
       "28870       29850    True        353  900, 399, 967        962        973   \n",
       "28920       29900    True       1647  912, 373, 969        959        977   \n",
       "29009       29989    True        606  911, 388, 976        971        982   \n",
       "\n",
       "       min_row  max_row  min_col  max_col  \n",
       "0           18      996        5      983  \n",
       "26         356      377      810      824  \n",
       "47         277      292      141      154  \n",
       "53         526      564      864      891  \n",
       "70         181      196      206      222  \n",
       "...        ...      ...      ...      ...  \n",
       "28736      234      248      802      811  \n",
       "28772      173      187      755      768  \n",
       "28870      396      404      895      907  \n",
       "28920      362      384      904      919  \n",
       "29009      381      396      908      917  \n",
       "\n",
       "[19649 rows x 10 columns]"
      ]
     },
     "execution_count": 26,
     "metadata": {},
     "output_type": "execute_result"
    }
   ],
   "source": [
    "stl_path = Path('../results/F83_01_bh/F83_01_bh_STLs')\n",
    "props_df = pd.read_csv(stl_path / 'F83_01_bh_properties.csv')\n",
    "props_df.loc[props_df['meshed']]\n",
    "# props_df.columns"
   ]
  },
  {
   "cell_type": "code",
   "execution_count": 25,
   "metadata": {},
   "outputs": [
    {
     "data": {
      "text/plain": [
       "99    2778\n",
       "Name: n_voxels, dtype: int64"
      ]
     },
     "execution_count": 25,
     "metadata": {},
     "output_type": "execute_result"
    }
   ],
   "source": [
    "props_df.loc[props_df.particleID == 894].n_voxels"
   ]
  },
  {
   "cell_type": "code",
   "execution_count": 27,
   "metadata": {},
   "outputs": [
    {
     "ename": "FileNotFoundError",
     "evalue": "[Errno 2] No such file or directory: '..\\\\results\\\\F83_01_bh\\\\F83_01_bh_STLs\\\\00894.stl'",
     "output_type": "error",
     "traceback": [
      "\u001b[1;31m---------------------------------------------------------------------------\u001b[0m",
      "\u001b[1;31mFileNotFoundError\u001b[0m                         Traceback (most recent call last)",
      "\u001b[1;32mc:\\Users\\gusb\\Research\\mhe-analysis\\nbs\\30-simplify-by-size.ipynb Cell 12\u001b[0m in \u001b[0;36m<cell line: 1>\u001b[1;34m()\u001b[0m\n\u001b[1;32m----> <a href='vscode-notebook-cell:/c%3A/Users/gusb/Research/mhe-analysis/nbs/30-simplify-by-size.ipynb#X21sZmlsZQ%3D%3D?line=0'>1</a>\u001b[0m fig, ax \u001b[39m=\u001b[39m view\u001b[39m.\u001b[39;49mplot_stl(stl_path \u001b[39m/\u001b[39;49m \u001b[39m'\u001b[39;49m\u001b[39m00894.stl\u001b[39;49m\u001b[39m'\u001b[39;49m)\n",
      "File \u001b[1;32mc:\\users\\gusb\\research\\segmentflow\\segmentflow\\view.py:348\u001b[0m, in \u001b[0;36mplot_stl\u001b[1;34m(path_or_mesh, zoom)\u001b[0m\n\u001b[0;32m    346\u001b[0m         \u001b[39mraise\u001b[39;00m \u001b[39mValueError\u001b[39;00m(\u001b[39mf\u001b[39m\u001b[39m'\u001b[39m\u001b[39mFile is not an STL: \u001b[39m\u001b[39m{\u001b[39;00mstl_path\u001b[39m}\u001b[39;00m\u001b[39m'\u001b[39m)\n\u001b[0;32m    347\u001b[0m     \u001b[39m# Load the STL files and add the vectors to the plot\u001b[39;00m\n\u001b[1;32m--> 348\u001b[0m     stl_mesh \u001b[39m=\u001b[39m mesh\u001b[39m.\u001b[39;49mMesh\u001b[39m.\u001b[39;49mfrom_file(stl_path)\n\u001b[0;32m    349\u001b[0m \u001b[39melif\u001b[39;00m \u001b[39misinstance\u001b[39m(path_or_mesh, mesh\u001b[39m.\u001b[39mMesh):\n\u001b[0;32m    350\u001b[0m     stl_mesh \u001b[39m=\u001b[39m path_or_mesh\n",
      "File \u001b[1;32mc:\\Users\\gusb\\Python\\envs\\segmentflow-env\\lib\\site-packages\\stl\\stl.py:376\u001b[0m, in \u001b[0;36mBaseStl.from_file\u001b[1;34m(cls, filename, calculate_normals, fh, mode, speedups, **kwargs)\u001b[0m\n\u001b[0;32m    373\u001b[0m     name, data \u001b[39m=\u001b[39m \u001b[39mcls\u001b[39m\u001b[39m.\u001b[39mload(\n\u001b[0;32m    374\u001b[0m         fh, mode\u001b[39m=\u001b[39mmode, speedups\u001b[39m=\u001b[39mspeedups)\n\u001b[0;32m    375\u001b[0m \u001b[39melse\u001b[39;00m:\n\u001b[1;32m--> 376\u001b[0m     \u001b[39mwith\u001b[39;00m \u001b[39mopen\u001b[39;49m(filename, \u001b[39m'\u001b[39;49m\u001b[39mrb\u001b[39;49m\u001b[39m'\u001b[39;49m) \u001b[39mas\u001b[39;00m fh:\n\u001b[0;32m    377\u001b[0m         name, data \u001b[39m=\u001b[39m \u001b[39mcls\u001b[39m\u001b[39m.\u001b[39mload(\n\u001b[0;32m    378\u001b[0m             fh, mode\u001b[39m=\u001b[39mmode, speedups\u001b[39m=\u001b[39mspeedups)\n\u001b[0;32m    380\u001b[0m \u001b[39mreturn\u001b[39;00m \u001b[39mcls\u001b[39m(data, calculate_normals, name\u001b[39m=\u001b[39mname,\n\u001b[0;32m    381\u001b[0m            speedups\u001b[39m=\u001b[39mspeedups, \u001b[39m*\u001b[39m\u001b[39m*\u001b[39mkwargs)\n",
      "\u001b[1;31mFileNotFoundError\u001b[0m: [Errno 2] No such file or directory: '..\\\\results\\\\F83_01_bh\\\\F83_01_bh_STLs\\\\00894.stl'"
     ]
    }
   ],
   "source": [
    "fig, ax = view.plot_stl(stl_path / '00894.stl')"
   ]
  }
 ],
 "metadata": {
  "kernelspec": {
   "display_name": "segmentflow-env",
   "language": "python",
   "name": "python3"
  },
  "language_info": {
   "codemirror_mode": {
    "name": "ipython",
    "version": 3
   },
   "file_extension": ".py",
   "mimetype": "text/x-python",
   "name": "python",
   "nbconvert_exporter": "python",
   "pygments_lexer": "ipython3",
   "version": "3.9.5"
  },
  "orig_nbformat": 4
 },
 "nbformat": 4,
 "nbformat_minor": 2
}
