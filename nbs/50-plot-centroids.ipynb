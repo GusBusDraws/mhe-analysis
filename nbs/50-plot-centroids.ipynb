{
 "cells": [
  {
   "cell_type": "code",
   "execution_count": 1,
   "metadata": {},
   "outputs": [],
   "source": [
    "import pandas as pd\n",
    "from pathlib import Path"
   ]
  },
  {
   "cell_type": "markdown",
   "metadata": {
    "vscode": {
     "languageId": "plaintext"
    }
   },
   "source": [
    "## Load and concat CSVs"
   ]
  },
  {
   "cell_type": "code",
   "execution_count": 4,
   "metadata": {},
   "outputs": [
    {
     "name": "stdout",
     "output_type": "stream",
     "text": [
      "195123\n"
     ]
    }
   ],
   "source": [
    "range_keys = [\n",
    "    (50, 249),\n",
    "    (250, 449),\n",
    "    (450, 650),\n",
    "    (640, 850),\n",
    "    (840, 1050),\n",
    "]\n",
    "\n",
    "dir_path = Path(r\"C:\\Users\\gusb\\Research\\mhe-analysis\\data\\IDOX_prill_1\")\n",
    "paths = {}\n",
    "dfs = []\n",
    "lengths = []\n",
    "for i in range(len(range_keys)):\n",
    "    paths[range_keys[i]] = (\n",
    "        Path(dir_path) / r\"IDOXprill_1_IDOXpucks_voidThreshold_\"\n",
    "        fr\"{range_keys[i][0]}-{range_keys[i][1]}_properties.csv\"\n",
    "    )\n",
    "    df = pd.read_csv(paths[range_keys[i]])\n",
    "    df.insert(0, 'range_0', [range_keys[i][0]]*df.shape[0])\n",
    "    df.insert(1, 'range_1', [range_keys[i][1]]*df.shape[0])\n",
    "    dfs.append(df)\n",
    "    lengths.append(df.shape[0])\n",
    "df = pd.concat(dfs)\n",
    "assert df.shape[0] == sum(lengths)\n",
    "print(df.shape[0])\n",
    "path_concat = Path(dir_path) / 'IDOX_prill_1_concat.csv'\n",
    "df.to_csv(path_concat, index=False)"
   ]
  },
  {
   "cell_type": "code",
   "execution_count": 6,
   "metadata": {},
   "outputs": [
    {
     "name": "stdout",
     "output_type": "stream",
     "text": [
      "195123\n"
     ]
    },
    {
     "data": {
      "text/html": [
       "<div>\n",
       "<style scoped>\n",
       "    .dataframe tbody tr th:only-of-type {\n",
       "        vertical-align: middle;\n",
       "    }\n",
       "\n",
       "    .dataframe tbody tr th {\n",
       "        vertical-align: top;\n",
       "    }\n",
       "\n",
       "    .dataframe thead th {\n",
       "        text-align: right;\n",
       "    }\n",
       "</style>\n",
       "<table border=\"1\" class=\"dataframe\">\n",
       "  <thead>\n",
       "    <tr style=\"text-align: right;\">\n",
       "      <th></th>\n",
       "      <th>range_0</th>\n",
       "      <th>range_1</th>\n",
       "      <th>particleID</th>\n",
       "      <th>n_voxels</th>\n",
       "      <th>n_voxels_post_erosion</th>\n",
       "      <th>centroid</th>\n",
       "      <th>slice_min</th>\n",
       "      <th>slice_max</th>\n",
       "      <th>row_min</th>\n",
       "      <th>row_max</th>\n",
       "      <th>...</th>\n",
       "      <th>col_max</th>\n",
       "      <th>meshed</th>\n",
       "      <th>stl_x_min</th>\n",
       "      <th>stl_x_max</th>\n",
       "      <th>stl_y_min</th>\n",
       "      <th>stl_y_max</th>\n",
       "      <th>stl_z_min</th>\n",
       "      <th>stl_z_max</th>\n",
       "      <th>stl_is_watertight</th>\n",
       "      <th>stl_volume</th>\n",
       "    </tr>\n",
       "  </thead>\n",
       "  <tbody>\n",
       "    <tr>\n",
       "      <th>0</th>\n",
       "      <td>50</td>\n",
       "      <td>249</td>\n",
       "      <td>2</td>\n",
       "      <td>14494.0</td>\n",
       "      <td>NaN</td>\n",
       "      <td>883, 537, 6</td>\n",
       "      <td>0</td>\n",
       "      <td>27</td>\n",
       "      <td>515</td>\n",
       "      <td>566</td>\n",
       "      <td>...</td>\n",
       "      <td>908</td>\n",
       "      <td>True</td>\n",
       "      <td>699.87537</td>\n",
       "      <td>735.53780</td>\n",
       "      <td>417.00740</td>\n",
       "      <td>458.34338</td>\n",
       "      <td>40.120243</td>\n",
       "      <td>62.004013</td>\n",
       "      <td>True</td>\n",
       "      <td>7687.004387</td>\n",
       "    </tr>\n",
       "    <tr>\n",
       "      <th>1</th>\n",
       "      <td>50</td>\n",
       "      <td>249</td>\n",
       "      <td>3</td>\n",
       "      <td>14015.0</td>\n",
       "      <td>NaN</td>\n",
       "      <td>962, 536, 9</td>\n",
       "      <td>0</td>\n",
       "      <td>28</td>\n",
       "      <td>517</td>\n",
       "      <td>565</td>\n",
       "      <td>...</td>\n",
       "      <td>985</td>\n",
       "      <td>True</td>\n",
       "      <td>767.14770</td>\n",
       "      <td>797.94710</td>\n",
       "      <td>418.62842</td>\n",
       "      <td>457.53290</td>\n",
       "      <td>40.120243</td>\n",
       "      <td>62.814520</td>\n",
       "      <td>True</td>\n",
       "      <td>7436.799888</td>\n",
       "    </tr>\n",
       "    <tr>\n",
       "      <th>2</th>\n",
       "      <td>50</td>\n",
       "      <td>249</td>\n",
       "      <td>4</td>\n",
       "      <td>271480.0</td>\n",
       "      <td>NaN</td>\n",
       "      <td>815, 568, 18</td>\n",
       "      <td>0</td>\n",
       "      <td>52</td>\n",
       "      <td>505</td>\n",
       "      <td>625</td>\n",
       "      <td>...</td>\n",
       "      <td>898</td>\n",
       "      <td>True</td>\n",
       "      <td>596.13007</td>\n",
       "      <td>727.43270</td>\n",
       "      <td>408.90228</td>\n",
       "      <td>506.16348</td>\n",
       "      <td>40.120243</td>\n",
       "      <td>82.266760</td>\n",
       "      <td>True</td>\n",
       "      <td>144439.379941</td>\n",
       "    </tr>\n",
       "    <tr>\n",
       "      <th>3</th>\n",
       "      <td>50</td>\n",
       "      <td>249</td>\n",
       "      <td>5</td>\n",
       "      <td>982.0</td>\n",
       "      <td>NaN</td>\n",
       "      <td>931, 575, 4</td>\n",
       "      <td>0</td>\n",
       "      <td>12</td>\n",
       "      <td>566</td>\n",
       "      <td>587</td>\n",
       "      <td>...</td>\n",
       "      <td>939</td>\n",
       "      <td>True</td>\n",
       "      <td>747.69543</td>\n",
       "      <td>760.66364</td>\n",
       "      <td>458.34338</td>\n",
       "      <td>475.36410</td>\n",
       "      <td>40.120243</td>\n",
       "      <td>49.846363</td>\n",
       "      <td>True</td>\n",
       "      <td>514.142512</td>\n",
       "    </tr>\n",
       "    <tr>\n",
       "      <th>4</th>\n",
       "      <td>50</td>\n",
       "      <td>249</td>\n",
       "      <td>6</td>\n",
       "      <td>477492.0</td>\n",
       "      <td>NaN</td>\n",
       "      <td>975, 605, 24</td>\n",
       "      <td>0</td>\n",
       "      <td>70</td>\n",
       "      <td>541</td>\n",
       "      <td>687</td>\n",
       "      <td>...</td>\n",
       "      <td>1055</td>\n",
       "      <td>True</td>\n",
       "      <td>734.72730</td>\n",
       "      <td>854.68280</td>\n",
       "      <td>438.08066</td>\n",
       "      <td>556.41510</td>\n",
       "      <td>40.120243</td>\n",
       "      <td>96.855940</td>\n",
       "      <td>True</td>\n",
       "      <td>254113.304870</td>\n",
       "    </tr>\n",
       "  </tbody>\n",
       "</table>\n",
       "<p>5 rows × 21 columns</p>\n",
       "</div>"
      ],
      "text/plain": [
       "   range_0  range_1  particleID  n_voxels  n_voxels_post_erosion  \\\n",
       "0       50      249           2   14494.0                    NaN   \n",
       "1       50      249           3   14015.0                    NaN   \n",
       "2       50      249           4  271480.0                    NaN   \n",
       "3       50      249           5     982.0                    NaN   \n",
       "4       50      249           6  477492.0                    NaN   \n",
       "\n",
       "       centroid  slice_min  slice_max  row_min  row_max  ...  col_max  meshed  \\\n",
       "0   883, 537, 6          0         27      515      566  ...      908    True   \n",
       "1   962, 536, 9          0         28      517      565  ...      985    True   \n",
       "2  815, 568, 18          0         52      505      625  ...      898    True   \n",
       "3   931, 575, 4          0         12      566      587  ...      939    True   \n",
       "4  975, 605, 24          0         70      541      687  ...     1055    True   \n",
       "\n",
       "   stl_x_min  stl_x_max  stl_y_min  stl_y_max  stl_z_min  stl_z_max  \\\n",
       "0  699.87537  735.53780  417.00740  458.34338  40.120243  62.004013   \n",
       "1  767.14770  797.94710  418.62842  457.53290  40.120243  62.814520   \n",
       "2  596.13007  727.43270  408.90228  506.16348  40.120243  82.266760   \n",
       "3  747.69543  760.66364  458.34338  475.36410  40.120243  49.846363   \n",
       "4  734.72730  854.68280  438.08066  556.41510  40.120243  96.855940   \n",
       "\n",
       "   stl_is_watertight     stl_volume  \n",
       "0               True    7687.004387  \n",
       "1               True    7436.799888  \n",
       "2               True  144439.379941  \n",
       "3               True     514.142512  \n",
       "4               True  254113.304870  \n",
       "\n",
       "[5 rows x 21 columns]"
      ]
     },
     "execution_count": 6,
     "metadata": {},
     "output_type": "execute_result"
    }
   ],
   "source": [
    "df = pd.read_csv(path_concat)\n",
    "print(df.shape[0])\n",
    "df.head()"
   ]
  },
  {
   "cell_type": "code",
   "execution_count": null,
   "metadata": {},
   "outputs": [
    {
     "data": {
      "text/plain": [
       "[['883', '537', '6'],\n",
       " ['962', '536', '9'],\n",
       " ['815', '568', '18'],\n",
       " ['931', '575', '4'],\n",
       " ['975', '605', '24']]"
      ]
     },
     "execution_count": 13,
     "metadata": {},
     "output_type": "execute_result"
    }
   ],
   "source": [
    "test = df[:5]\n",
    "test.centroid.str.split(', ').tolist()"
   ]
  },
  {
   "cell_type": "code",
   "execution_count": 14,
   "metadata": {},
   "outputs": [
    {
     "name": "stderr",
     "output_type": "stream",
     "text": [
      "C:\\Users\\gusb\\AppData\\Local\\Temp\\ipykernel_7412\\2899644183.py:2: SettingWithCopyWarning: \n",
      "A value is trying to be set on a copy of a slice from a DataFrame.\n",
      "Try using .loc[row_indexer,col_indexer] = value instead\n",
      "\n",
      "See the caveats in the documentation: https://pandas.pydata.org/pandas-docs/stable/user_guide/indexing.html#returning-a-view-versus-a-copy\n",
      "  test[['centroid_x', 'centroid_y', 'centroid_z']] = pd.DataFrame(\n",
      "C:\\Users\\gusb\\AppData\\Local\\Temp\\ipykernel_7412\\2899644183.py:2: SettingWithCopyWarning: \n",
      "A value is trying to be set on a copy of a slice from a DataFrame.\n",
      "Try using .loc[row_indexer,col_indexer] = value instead\n",
      "\n",
      "See the caveats in the documentation: https://pandas.pydata.org/pandas-docs/stable/user_guide/indexing.html#returning-a-view-versus-a-copy\n",
      "  test[['centroid_x', 'centroid_y', 'centroid_z']] = pd.DataFrame(\n",
      "C:\\Users\\gusb\\AppData\\Local\\Temp\\ipykernel_7412\\2899644183.py:2: SettingWithCopyWarning: \n",
      "A value is trying to be set on a copy of a slice from a DataFrame.\n",
      "Try using .loc[row_indexer,col_indexer] = value instead\n",
      "\n",
      "See the caveats in the documentation: https://pandas.pydata.org/pandas-docs/stable/user_guide/indexing.html#returning-a-view-versus-a-copy\n",
      "  test[['centroid_x', 'centroid_y', 'centroid_z']] = pd.DataFrame(\n"
     ]
    }
   ],
   "source": [
    "test = df[:5]\n",
    "test[['centroid_x', 'centroid_y', 'centroid_z']] = pd.DataFrame(\n",
    "    test.centroid.str.split(', ').tolist(), index=test.index)"
   ]
  }
 ],
 "metadata": {
  "kernelspec": {
   "display_name": "segmentflow-env",
   "language": "python",
   "name": "python3"
  },
  "language_info": {
   "codemirror_mode": {
    "name": "ipython",
    "version": 3
   },
   "file_extension": ".py",
   "mimetype": "text/x-python",
   "name": "python",
   "nbconvert_exporter": "python",
   "pygments_lexer": "ipython3",
   "version": "3.9.5"
  }
 },
 "nbformat": 4,
 "nbformat_minor": 2
}
