{
 "cells": [
  {
   "cell_type": "code",
   "execution_count": 14,
   "metadata": {},
   "outputs": [
    {
     "name": "stdout",
     "output_type": "stream",
     "text": [
      "The autoreload extension is already loaded. To reload it, use:\n",
      "  %reload_ext autoreload\n"
     ]
    }
   ],
   "source": [
    "import matplotlib.pyplot as plt\n",
    "import numpy as np\n",
    "from pathlib import Path\n",
    "from segmentflow import segment, view, mesh\n",
    "from skimage import exposure, util\n",
    "%load_ext autoreload\n",
    "%autoreload 2"
   ]
  },
  {
   "cell_type": "code",
   "execution_count": 42,
   "metadata": {},
   "outputs": [
    {
     "name": "stdout",
     "output_type": "stream",
     "text": [
      "\n",
      "Loading images...\n",
      "--> Images loaded as 3D array:  (200, 200, 200)\n"
     ]
    },
    {
     "data": {
      "image/png": "[encoded data removed]",
      "text/plain": [
       "<Figure size 750x250 with 3 Axes>"
      ]
     },
     "metadata": {},
     "output_type": "display_data"
    }
   ],
   "source": [
    "ui = {\n",
    "    'in_dir_path'          : '../../mhe-analysis/data/fake-ct/Res2',\n",
    "    'file_suffix'          : 'tiff',\n",
    "    'slice_crop'           : None,\n",
    "    'row_crop'             : None,\n",
    "    'col_crop'             : None,\n",
    "    'out_dir_path'         : '../results/fake-ct/Res2',\n",
    "    'out_prefix'           : 'Res2_smoothed',\n",
    "    'overwrite'            : True,\n",
    "    'view_slices'          : [75, 125, 175],\n",
    "    'view_raw'             : True,\n",
    "    'view_pre'             : True,\n",
    "    'view_semantic'        : True,\n",
    "    'view_labeled'         : True,\n",
    "    'pre_seg_med_filter'   : False,\n",
    "    'rescale_range'        : None,\n",
    "    'thresh_nbins'         : 256,\n",
    "    'view_thresh_hist'     : True,\n",
    "    'thresh_hist_ylims'    : None,\n",
    "    'perform_seg'          : True,\n",
    "    'min_peak_dist'        : 6,\n",
    "    'exclude_borders'      : True,\n",
    "    'save_voxels'          : False,\n",
    "    'create_stls'          : True,\n",
    "    'n_erosions'           : 0,\n",
    "    'post_seg_med_filter'  : True,\n",
    "    'spatial_res'          : 1,\n",
    "    'voxel_step_size'      : 1,\n",
    "    'suppress_save_msg'    : True,\n",
    "    'mesh_smooth_n_iters'  : 1,\n",
    "    'mesh_simplify_n_tris' : None,\n",
    "    'mesh_simplify_factor' : None,\n",
    "    'seg_fig_show'         : False,\n",
    "}\n",
    "#-------------#\n",
    "# Load images #\n",
    "#-------------#\n",
    "print()\n",
    "imgs = segment.load_images(\n",
    "    ui['in_dir_path'],\n",
    "    slice_crop=ui['slice_crop'],\n",
    "    row_crop=ui['row_crop'],\n",
    "    col_crop=ui['col_crop'],\n",
    "    convert_to_float=False,\n",
    "    file_suffix=ui['file_suffix']\n",
    ")\n",
    "fig, axes = view.plot_slices(\n",
    "        imgs,\n",
    "        slices=ui['view_slices'],\n",
    "        print_slices=False,\n",
    "        fig_w=7.5,\n",
    "        dpi=100\n",
    "    )"
   ]
  },
  {
   "cell_type": "code",
   "execution_count": 24,
   "metadata": {},
   "outputs": [
    {
     "data": {
      "text/plain": [
       "[<matplotlib.lines.Line2D at 0x1d4071bb9d0>]"
      ]
     },
     "execution_count": 24,
     "metadata": {},
     "output_type": "execute_result"
    },
    {
     "data": {
      "image/png": "[encoded data removed]",
      "text/plain": [
       "<Figure size 640x480 with 1 Axes>"
      ]
     },
     "metadata": {},
     "output_type": "display_data"
    }
   ],
   "source": [
    "hist, hist_centers = exposure.histogram(imgs)\n",
    "fig, ax = plt.subplots()\n",
    "ax.plot(hist_centers, hist, lw=1)"
   ]
  },
  {
   "cell_type": "code",
   "execution_count": 27,
   "metadata": {},
   "outputs": [
    {
     "name": "stdout",
     "output_type": "stream",
     "text": [
      "\n"
     ]
    },
    {
     "data": {
      "image/png": "[encoded data removed]",
      "text/plain": [
       "<Figure size 750x250 with 3 Axes>"
      ]
     },
     "metadata": {},
     "output_type": "display_data"
    }
   ],
   "source": [
    "#-----------------------#\n",
    "# Semantic segmentation #\n",
    "#-----------------------#\n",
    "print()\n",
    "imgs_semantic = imgs.copy()\n",
    "imgs_semantic[imgs < imgs.max()] = 0\n",
    "if ui['view_semantic']:\n",
    "    fig, axes = view.plot_slices(\n",
    "            imgs_semantic,\n",
    "            slices=ui['view_slices'],\n",
    "            print_slices=False,\n",
    "            fig_w=7.5,\n",
    "            dpi=100\n",
    "        )\n"
   ]
  },
  {
   "cell_type": "code",
   "execution_count": 29,
   "metadata": {},
   "outputs": [
    {
     "name": "stdout",
     "output_type": "stream",
     "text": [
      "\n",
      "Segmenting images...\n",
      "--> Number of particle(s) before border exclusion:  32\n",
      "--> Excluding border particles...\n",
      "--> Segmentation complete. 32 particle(s) segmented.\n"
     ]
    },
    {
     "data": {
      "image/png": "[encoded data removed]",
      "text/plain": [
       "<Figure size 750x250 with 3 Axes>"
      ]
     },
     "metadata": {},
     "output_type": "display_data"
    }
   ],
   "source": [
    "#-----------------------#\n",
    "# Instance segmentation #\n",
    "#-----------------------#\n",
    "if ui['perform_seg']:\n",
    "    print()\n",
    "    imgs = None\n",
    "    imgs_pre = None\n",
    "    imgs_labeled = segment.watershed_segment(\n",
    "        imgs_semantic,\n",
    "        min_peak_distance=ui['min_peak_dist'],\n",
    "        exclude_borders=ui['exclude_borders'],\n",
    "        return_dict=False\n",
    "    )\n",
    "    if ui['view_labeled']:\n",
    "        fig, axes = view.plot_color_labels(\n",
    "            imgs_labeled,\n",
    "            slices=ui['view_slices'],\n",
    "            fig_w=7.5,\n",
    "            dpi=100\n",
    "        )\n",
    "    if ui['save_voxels']:\n",
    "        segment.save_images(\n",
    "            imgs_labeled,\n",
    "            Path(ui['out_dir_path']) / f\"{ui['out_prefix']}_labeled_voxels\"\n",
    "        )"
   ]
  },
  {
   "cell_type": "code",
   "execution_count": 48,
   "metadata": {},
   "outputs": [
    {
     "name": "stdout",
     "output_type": "stream",
     "text": [
      "\n",
      "Generating surface meshes...\n",
      "--> 32 STL file(s) written!\n",
      "\n",
      "Postprocessing surface meshes...\n",
      "--> 32 surface meshes postprocessed.\n"
     ]
    }
   ],
   "source": [
    "#----------------------------------------#\n",
    "# Create Surface Meshes of Each Particle #\n",
    "#----------------------------------------#\n",
    "if ui['perform_seg'] and ui['create_stls']:\n",
    "    print()\n",
    "    stl_dir_path = segment.save_as_stl_files(\n",
    "        imgs_labeled,\n",
    "        ui['out_dir_path'],\n",
    "        ui['out_prefix'],\n",
    "        suppress_save_msg=ui['suppress_save_msg'],\n",
    "        slice_crop=ui['slice_crop'],\n",
    "        row_crop=ui['row_crop'],\n",
    "        col_crop=ui['col_crop'],\n",
    "        stl_overwrite=ui['overwrite'],\n",
    "        spatial_res=ui['spatial_res'],\n",
    "        n_erosions=ui['n_erosions'],\n",
    "        median_filter_voxels=ui['post_seg_med_filter'],\n",
    "        voxel_step_size=ui['voxel_step_size'],\n",
    "        return_stl_dir_path=True\n",
    "    )\n",
    "\n",
    "    #----------------------------------------------#\n",
    "    # Postprocess surface meshes for each particle #\n",
    "    #----------------------------------------------#\n",
    "    if (\n",
    "        ui['mesh_smooth_n_iters'] is not None\n",
    "        or ui['mesh_simplify_n_tris'] is not None\n",
    "        or ui['mesh_simplify_factor'] is not None\n",
    "    ):\n",
    "        print()\n",
    "        # Iterate through each STL file, load the mesh, and smooth/simplify\n",
    "        mesh.postprocess_meshes(\n",
    "            stl_dir_path,\n",
    "            smooth_iter=ui['mesh_smooth_n_iters'],\n",
    "            simplify_n_tris=ui['mesh_simplify_n_tris'],\n",
    "            iterative_simplify_factor=ui['mesh_simplify_factor'],\n",
    "            recursive_simplify=False, resave_mesh=True\n",
    "        )\n"
   ]
  }
 ],
 "metadata": {
  "kernelspec": {
   "display_name": "segmentflow-env",
   "language": "python",
   "name": "python3"
  },
  "language_info": {
   "codemirror_mode": {
    "name": "ipython",
    "version": 3
   },
   "file_extension": ".py",
   "mimetype": "text/x-python",
   "name": "python",
   "nbconvert_exporter": "python",
   "pygments_lexer": "ipython3",
   "version": "3.9.5"
  },
  "orig_nbformat": 4
 },
 "nbformat": 4,
 "nbformat_minor": 2
}
