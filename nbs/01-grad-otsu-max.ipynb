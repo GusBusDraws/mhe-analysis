{
 "cells": [
  {
   "cell_type": "markdown",
   "metadata": {},
   "source": [
    "# 01-grad-otsu-max.ipynb\n",
    "This notebook is to begin the segmentation procedure outline in `README.md`. \n",
    "Steps performed here include:\n",
    "- [Load data](#load-data)\n",
    "- [(A) Smooth image](#a-smooth-image)\n",
    "- [(B) The gradient magnitude of A](#b-calculate-gradient)\n",
    "- [(C) Explorative method for selecting some maxima using multi-Itsu thresholding](#c-select-maxima-with-multi-otsu)"
   ]
  },
  {
   "cell_type": "markdown",
   "metadata": {},
   "source": [
    "# Import packages"
   ]
  },
  {
   "cell_type": "code",
   "execution_count": 1,
   "metadata": {},
   "outputs": [],
   "source": [
    "use_napari = True"
   ]
  },
  {
   "cell_type": "code",
   "execution_count": 2,
   "metadata": {},
   "outputs": [],
   "source": [
    "# Standard library imports\n",
    "from pathlib import Path\n",
    "# Third-party imports\n",
    "import imagecodecs  # dependency required for loading compressed tif images\n",
    "import imageio as iio\n",
    "import matplotlib.pyplot as plt\n",
    "import numpy as np\n",
    "from skimage import filters, morphology, util\n",
    "if use_napari:\n",
    "    import napari"
   ]
  },
  {
   "cell_type": "markdown",
   "metadata": {},
   "source": [
    "# Load data"
   ]
  },
  {
   "cell_type": "code",
   "execution_count": 3,
   "metadata": {},
   "outputs": [],
   "source": [
    "if use_napari:\n",
    "    viewer = napari.Viewer()"
   ]
  },
  {
   "cell_type": "code",
   "execution_count": 4,
   "metadata": {},
   "outputs": [
    {
     "name": "stdout",
     "output_type": "stream",
     "text": [
      "C:\\Users\\gusb\\Research\\mhe-analysis\n"
     ]
    }
   ],
   "source": [
    "project_dir = Path('..').resolve()\n",
    "print(project_dir)"
   ]
  },
  {
   "cell_type": "code",
   "execution_count": 5,
   "metadata": {},
   "outputs": [
    {
     "name": "stdout",
     "output_type": "stream",
     "text": [
      "img.shape=(1004, 924)\n",
      "img.dtype=dtype('uint16')\n"
     ]
    }
   ],
   "source": [
    "img_path = Path(project_dir / 'IDOX_500.tif')   \n",
    "img = iio.imread(img_path)\n",
    "print(f'{img.shape=}')\n",
    "print(f'{img.dtype=}')"
   ]
  },
  {
   "cell_type": "code",
   "execution_count": 6,
   "metadata": {},
   "outputs": [],
   "source": [
    "def plot_img(img):\n",
    "    fig, ax = plt.subplots(figsize = (8, 8))\n",
    "    ax.imshow(img)\n",
    "    ax.axis('off')\n",
    "    return fig, ax"
   ]
  },
  {
   "cell_type": "code",
   "execution_count": 7,
   "metadata": {},
   "outputs": [],
   "source": [
    "if use_napari:\n",
    "    viewer.add_image(img, name='raw')\n",
    "else:\n",
    "    fig, ax = plot_img(img)"
   ]
  },
  {
   "cell_type": "markdown",
   "metadata": {},
   "source": [
    "# (A) Smooth image"
   ]
  },
  {
   "cell_type": "code",
   "execution_count": 8,
   "metadata": {},
   "outputs": [],
   "source": [
    "img_smooth = filters.gaussian(img)\n",
    "if use_napari:\n",
    "    viewer.add_image(img_smooth, name='smoothed')\n",
    "else:\n",
    "    fig, ax = plot_img(img_smooth)"
   ]
  },
  {
   "cell_type": "markdown",
   "metadata": {},
   "source": [
    "# (B) Calculate gradient"
   ]
  },
  {
   "cell_type": "code",
   "execution_count": 9,
   "metadata": {},
   "outputs": [
    {
     "name": "stderr",
     "output_type": "stream",
     "text": [
      "C:\\Users\\gusb\\Python\\envs\\napari-env\\lib\\site-packages\\IPython\\core\\interactiveshell.py:3437: UserWarning: Possible precision loss converting image of type float64 to uint8 as required by rank filters. Convert manually using skimage.util.img_as_ubyte to silence this warning.\n",
      "  exec(code_obj, self.user_global_ns, self.user_ns)\n"
     ]
    }
   ],
   "source": [
    "img_grad = filters.rank.gradient(img_smooth, morphology.disk(3))\n",
    "if use_napari:\n",
    "    viewer.add_image(img_grad, name='gradient')\n",
    "else:\n",
    "    fig, ax = plot_img(img_grad)"
   ]
  },
  {
   "cell_type": "markdown",
   "metadata": {},
   "source": [
    "# (C) Select maxima with multi-Otsu"
   ]
  },
  {
   "cell_type": "code",
   "execution_count": 10,
   "metadata": {},
   "outputs": [
    {
     "data": {
      "text/plain": [
       "array([0.22145649, 0.55121652])"
      ]
     },
     "execution_count": 10,
     "metadata": {},
     "output_type": "execute_result"
    }
   ],
   "source": [
    "thresholds = filters.threshold_multiotsu(img_smooth, classes=3)\n",
    "thresholds"
   ]
  },
  {
   "cell_type": "code",
   "execution_count": 11,
   "metadata": {},
   "outputs": [],
   "source": [
    "def thresh_multiotsu(img, n_classes=3, show_process=False): \n",
    "    thresholds = filters.threshold_multiotsu(img_smooth, classes=n_classes)\n",
    "    img_multiotsu = np.zeros_like(img)\n",
    "    if show_process:\n",
    "        fig, axes = plt.subplots(1, 3, figsize=(12, 5))\n",
    "        ax = axes.ravel()\n",
    "        ax[0].imshow(img)\n",
    "        ax[1].hist(img.ravel(), bins=256)\n",
    "        for i, thresh in enumerate(thresholds):\n",
    "            ax[1].axvline(thresh, color='black')\n",
    "            img_multiotsu[img > thresh] = (i + 1) / len(thresholds)\n",
    "        ax[1].set_ylim([0, 15000])\n",
    "        ax[2].imshow(img_multiotsu)\n",
    "        return fig, axes\n",
    "    else:\n",
    "        for i, thresh in enumerate(thresholds):\n",
    "            img_multiotsu[img > thresh] = (i + 1) / len(thresholds)\n",
    "        return img_multiotsu"
   ]
  },
  {
   "cell_type": "code",
   "execution_count": 12,
   "metadata": {},
   "outputs": [],
   "source": [
    "n_classes = 3\n",
    "if use_napari:\n",
    "    multiotsu = thresh_multiotsu(img_smooth, n_classes=n_classes)\n",
    "    viewer.add_image(multiotsu, name=f'multi-Otsu: {n_classes=}')\n",
    "else:\n",
    "    fig, axes = thresh_multiotsu(\n",
    "        img_smooth, n_classes=n_classes, show_process=True\n",
    "    )"
   ]
  },
  {
   "cell_type": "code",
   "execution_count": 14,
   "metadata": {},
   "outputs": [],
   "source": [
    "n_classes = 4\n",
    "if use_napari:\n",
    "    multiotsu = thresh_multiotsu(img_smooth, n_classes=n_classes)\n",
    "    viewer.add_image(multiotsu, name=f'multi-Otsu: {n_classes=}')\n",
    "else:\n",
    "    fig, axes = thresh_multiotsu(\n",
    "        img_smooth, n_classes=n_classes, show_process=True\n",
    "    )"
   ]
  }
 ],
 "metadata": {
  "interpreter": {
   "hash": "2f9fcb20087b7af2829bf0abbacbe7806b917b04bec25a5e9393fe507dcd2d8e"
  },
  "kernelspec": {
   "display_name": "Python 3.9.5 64-bit (system)",
   "language": "python",
   "name": "python3"
  },
  "language_info": {
   "codemirror_mode": {
    "name": "ipython",
    "version": 3
   },
   "file_extension": ".py",
   "mimetype": "text/x-python",
   "name": "python",
   "nbconvert_exporter": "python",
   "pygments_lexer": "ipython3",
   "version": "3.9.5"
  },
  "orig_nbformat": 4
 },
 "nbformat": 4,
 "nbformat_minor": 2
}
