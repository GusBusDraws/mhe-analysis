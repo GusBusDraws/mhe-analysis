{
 "cells": [
  {
   "cell_type": "code",
   "execution_count": null,
   "metadata": {},
   "outputs": [],
   "source": [
    "from pathlib import Path\n",
    "import math\n",
    "import matplotlib.pyplot as plt\n",
    "import numpy as np\n",
    "import pandas as pd\n",
    "from segmentflow import segment, view\n",
    "from skimage import morphology, util\n",
    "%load_ext autoreload\n",
    "%autoreload 2"
   ]
  },
  {
   "cell_type": "code",
   "execution_count": null,
   "metadata": {},
   "outputs": [],
   "source": [
    "img_dir = Path(r'..\\data\\IP_01-he6_raw')\n",
    "# img_dir = Path(r'..\\data\\IDOX_Estane test 1 TIFF\\Load 0')\n",
    "file_suffix = '.tiff'\n",
    "print(len([p for p in img_dir.glob(f'*{file_suffix}')]))\n",
    "imgs = segment.load_images(\n",
    "    img_dir,\n",
    "    slice_crop=[0, 500],\n",
    "    row_crop=[200, 850],\n",
    "    col_crop=[200, 850],\n",
    "    file_suffix=file_suffix\n",
    ")\n",
    "fig, axes = view.vol_slices(imgs, nslices=5)\n",
    "plt.show()"
   ]
  },
  {
   "cell_type": "code",
   "execution_count": null,
   "metadata": {},
   "outputs": [],
   "source": [
    "# Plot intensity rescale histogram\n",
    "imgs = segment.preprocess(\n",
    "    imgs, median_filter=True,\n",
    "    rescale_intensity_range=[0.01, 99.99])\n",
    "imgs = util.img_as_uint(imgs)\n",
    "fig, axes = view.vol_slices(imgs, nslices=5)\n",
    "plt.show()"
   ]
  },
  {
   "cell_type": "code",
   "execution_count": null,
   "metadata": {},
   "outputs": [],
   "source": [
    "# Calc semantic seg threshold values and generate histogram\n",
    "thresholds, fig, ax = segment.threshold_multi_otsu(\n",
    "    imgs, nclasses=2, nbins=256, return_fig_ax=True\n",
    ")\n",
    "plt.show()"
   ]
  },
  {
   "cell_type": "code",
   "execution_count": null,
   "metadata": {},
   "outputs": [],
   "source": [
    "imgs = segment.isolate_classes(imgs, thresholds)\n",
    "fig, axes = view.vol_slices(imgs, nslices=5)\n",
    "plt.show()"
   ]
  },
  {
   "cell_type": "code",
   "execution_count": null,
   "metadata": {},
   "outputs": [],
   "source": [
    "fig, axes = view.vol_slices(imgs.astype(bool), nslices=5)\n",
    "plt.show()"
   ]
  },
  {
   "cell_type": "code",
   "execution_count": null,
   "metadata": {},
   "outputs": [],
   "source": [
    "imgs_shell = imgs - morphology.binary_erosion(imgs)\n",
    "fig, axes = view.vol_slices(imgs_shell, nslices=5)\n",
    "plt.show()"
   ]
  },
  {
   "cell_type": "code",
   "execution_count": null,
   "metadata": {},
   "outputs": [],
   "source": [
    "fig, axes = view.vol_slices(imgs_shell[:, 300:400, 300:400], nslices=5)\n",
    "plt.show()"
   ]
  },
  {
   "cell_type": "code",
   "execution_count": null,
   "metadata": {},
   "outputs": [],
   "source": [
    "shell_verts = np.argwhere(imgs_shell == 1)\n",
    "shell_verts"
   ]
  },
  {
   "cell_type": "code",
   "execution_count": null,
   "metadata": {},
   "outputs": [],
   "source": [
    "shell_df = pd.DataFrame(shell_verts, columns=['slice', 'row', 'column'])\n",
    "shell_df.to_csv(f'../results/{img_dir.name}_shel.csv')\n",
    "shell_df.head()"
   ]
  },
  {
   "cell_type": "code",
   "execution_count": null,
   "metadata": {},
   "outputs": [],
   "source": [
    "print('Total n voxels:', math.prod(i for i in imgs.shape))\n",
    "print('Shell n vertices:', shell_df.index.shape[0])"
   ]
  }
 ],
 "metadata": {
  "kernelspec": {
   "display_name": "segmentflow-env",
   "language": "python",
   "name": "python3"
  },
  "language_info": {
   "codemirror_mode": {
    "name": "ipython",
    "version": 3
   },
   "file_extension": ".py",
   "mimetype": "text/x-python",
   "name": "python",
   "nbconvert_exporter": "python",
   "pygments_lexer": "ipython3",
   "version": "3.9.5"
  }
 },
 "nbformat": 4,
 "nbformat_minor": 2
}
