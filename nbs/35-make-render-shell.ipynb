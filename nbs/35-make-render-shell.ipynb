{
 "cells": [
  {
   "cell_type": "code",
   "execution_count": null,
   "metadata": {},
   "outputs": [],
   "source": [
    "from pathlib import Path\n",
    "import matplotlib.pyplot as plt\n",
    "import numpy as np\n",
    "from segmentflow import segment, view\n",
    "from skimage import morphology, util"
   ]
  },
  {
   "cell_type": "code",
   "execution_count": null,
   "metadata": {},
   "outputs": [],
   "source": [
    "img_dir = Path(r'..\\data\\IDOX_Estane test 1 TIFF\\Load 0')\n",
    "print(len([p for p in img_dir.glob('*.tif')]))\n",
    "imgs = segment.load_images(img_dir, slice_crop=[0, 400], file_suffix='.tif')"
   ]
  },
  {
   "cell_type": "code",
   "execution_count": null,
   "metadata": {},
   "outputs": [],
   "source": [
    "fig, axes = view.vol_slices(imgs, nslices=5)\n",
    "plt.show()"
   ]
  },
  {
   "cell_type": "code",
   "execution_count": null,
   "metadata": {},
   "outputs": [],
   "source": [
    "# Plot intensity rescale histogram\n",
    "imgs = segment.preprocess(\n",
    "    imgs, median_filter=True,\n",
    "    rescale_intensity_range=[0.01, 99.99])\n",
    "imgs = util.img_as_uint(imgs)\n",
    "fig, axes = view.vol_slices(imgs, nslices=5)\n",
    "plt.show()\n",
    "plt.show()\n"
   ]
  },
  {
   "cell_type": "code",
   "execution_count": null,
   "metadata": {},
   "outputs": [],
   "source": [
    "# Calc semantic seg threshold values and generate histogram\n",
    "thresholds, fig, ax = segment.threshold_multi_otsu(\n",
    "    imgs, nclasses=2, nbins=256, return_fig_ax=True\n",
    ")\n",
    "plt.show()"
   ]
  },
  {
   "cell_type": "code",
   "execution_count": null,
   "metadata": {},
   "outputs": [],
   "source": [
    "imgs = segment.isolate_classes(imgs, thresholds)\n",
    "fig, axes = view.vol_slices(imgs, nslices=5)\n",
    "plt.show()"
   ]
  }
 ],
 "metadata": {
  "kernelspec": {
   "display_name": "segmentflow-env",
   "language": "python",
   "name": "python3"
  },
  "language_info": {
   "codemirror_mode": {
    "name": "ipython",
    "version": 3
   },
   "file_extension": ".py",
   "mimetype": "text/x-python",
   "name": "python",
   "nbconvert_exporter": "python",
   "pygments_lexer": "ipython3",
   "version": "3.9.5"
  }
 },
 "nbformat": 4,
 "nbformat_minor": 2
}
