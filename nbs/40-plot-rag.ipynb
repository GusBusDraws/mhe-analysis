{
 "cells": [
  {
   "cell_type": "code",
   "execution_count": 2,
   "metadata": {},
   "outputs": [],
   "source": [
    "from pathlib import Path\n",
    "import matplotlib.pyplot as plt\n",
    "from matplotlib import animation\n",
    "import networkx as nx\n",
    "import numpy as np\n",
    "import pandas as pd\n",
    "from segmentflow import segment, view\n",
    "from skimage import graph, measure\n",
    "import trimesh\n",
    "%matplotlib qt\n",
    "%load_ext autoreload\n",
    "%autoreload 2"
   ]
  },
  {
   "cell_type": "code",
   "execution_count": 9,
   "metadata": {},
   "outputs": [],
   "source": [
    "# https://networkx.org/documentation/latest/auto_examples/3d_drawing/plot_3d_rotation_animation.html#sphx-glr-auto-examples-3d-drawing-plot-3d-rotation-animation-py\n",
    "G = nx.dodecahedral_graph()\n",
    "pos = nx.spectral_layout(G, dim=3)\n",
    "nodes = np.array([pos[v] for v in G])\n",
    "edges = np.array([(pos[u], pos[v]) for u, v in G.edges()])\n",
    "def init():\n",
    "    ax.scatter(*nodes.T, alpha=0.2, s=100, color=\"blue\")\n",
    "    for vizedge in edges:\n",
    "        ax.plot(*vizedge.T, color=\"gray\")\n",
    "    ax.grid(False)\n",
    "    ax.set_axis_off()\n",
    "    plt.tight_layout()\n",
    "    return\n",
    "\n",
    "def _frame_update(index):\n",
    "    ax.view_init(index * 0.2, index * 0.5)\n",
    "    return\n",
    "\n",
    "fig = plt.figure()\n",
    "ax = fig.add_subplot(111, projection=\"3d\")\n",
    "\n",
    "ani = animation.FuncAnimation(\n",
    "    fig,\n",
    "    _frame_update,\n",
    "    init_func=init,\n",
    "    interval=50,\n",
    "    cache_frame_data=False,\n",
    "    frames=100,\n",
    ")\n",
    "plt.show()"
   ]
  },
  {
   "cell_type": "code",
   "execution_count": 10,
   "metadata": {},
   "outputs": [],
   "source": [
    "G = nx.dodecahedral_graph()\n",
    "pos = nx.spectral_layout(G, dim=3)\n",
    "nodes = np.array([pos[v] for v in G])\n",
    "edges = np.array([(pos[u], pos[v]) for u, v in G.edges()])\n",
    "fig = plt.figure()\n",
    "ax = fig.add_subplot(111, projection=\"3d\")\n",
    "ax.scatter(*nodes.T, alpha=0.2, s=100, color=\"blue\")\n",
    "for vizedge in edges:\n",
    "    ax.plot(*vizedge.T, color=\"gray\")\n",
    "ax.grid(False)\n",
    "ax.set_axis_off()\n",
    "plt.tight_layout()\n",
    "plt.show()"
   ]
  },
  {
   "cell_type": "code",
   "execution_count": null,
   "metadata": {},
   "outputs": [],
   "source": [
    "img_dir_path = Path(\n",
    "    f'../../PSAAP/alshibli_1551_study'\n",
    "    f'/segmentflow_output/output_160_2mpd'\n",
    "    f'/output_160_labeled_voxels')\n",
    "print(img_dir_path.resolve())\n",
    "imgs_labeled = segment.load_images(img_dir_path, file_suffix='tif')"
   ]
  },
  {
   "cell_type": "code",
   "execution_count": null,
   "metadata": {},
   "outputs": [],
   "source": [
    "props_df = pd.DataFrame(columns=[\n",
    "    'particleID',\n",
    "    'n_voxels',\n",
    "    'centroid',\n",
    "    'min_slice',\n",
    "    'max_slice',\n",
    "    'min_row',\n",
    "    'max_row',\n",
    "    'min_col',\n",
    "    'max_col'\n",
    "])\n",
    "regions = measure.regionprops(imgs_labeled)\n",
    "# n_particles = len(regions)\n",
    "for region in regions:\n",
    "    # Get bounding slice, row, and column\n",
    "    min_slice, min_row, min_col, max_slice, max_row, max_col = region.bbox\n",
    "    # Get centroid coords in slice, row, col and reverse to get x, y, z\n",
    "    centroid_x, centroid_y, centroid_z = (\n",
    "        reversed([str(round(coord)) for coord in region.centroid])\n",
    "    )\n",
    "    props = {}\n",
    "    props['particleID'] = region.label\n",
    "    props['n_voxels']   = region.area\n",
    "    props['centroid_x'] = centroid_x\n",
    "    props['centroid_y'] = centroid_y\n",
    "    props['centroid_z'] = centroid_z\n",
    "    props['min_slice']  = min_slice\n",
    "    props['max_slice']  = max_slice\n",
    "    props['min_row']    = min_row\n",
    "    props['max_row']    = max_row\n",
    "    props['min_col']    = min_col\n",
    "    props['max_col']    = max_col\n",
    "    props_df = pd.concat(\n",
    "        [props_df, pd.DataFrame.from_records([props])], ignore_index=True\n",
    "    )\n"
   ]
  },
  {
   "cell_type": "code",
   "execution_count": null,
   "metadata": {},
   "outputs": [],
   "source": [
    "props_df = pd.DataFrame(columns=[\n",
    "    'particleID',\n",
    "    'n_voxels',\n",
    "    'centroid',\n",
    "    'min_slice',\n",
    "    'max_slice',\n",
    "    'min_row',\n",
    "    'max_row',\n",
    "    'min_col',\n",
    "    'max_col',\n",
    "    'n_voxels_convex',\n",
    "    'convex_to_concave',\n",
    "])\n",
    "regions = measure.regionprops(imgs_labeled)\n",
    "# n_particles = len(regions)\n",
    "for region in regions:\n",
    "    # Get bounding slice, row, and column\n",
    "    min_slice, min_row, min_col, max_slice, max_row, max_col = region.bbox\n",
    "    # Get centroid coords in slice, row, col and reverse to get x, y, z\n",
    "    centroid_x, centroid_y, centroid_z = (\n",
    "        reversed([str(round(coord)) for coord in region.centroid])\n",
    "    )\n",
    "    props = {}\n",
    "    props['particleID'] = region.label\n",
    "    props['n_voxels']   = region.area\n",
    "    props['centroid_x'] = centroid_x\n",
    "    props['centroid_y'] = centroid_y\n",
    "    props['centroid_z'] = centroid_z\n",
    "    props['min_slice']  = min_slice\n",
    "    props['max_slice']  = max_slice\n",
    "    props['min_row']    = min_row\n",
    "    props['max_row']    = max_row\n",
    "    props['min_col']    = min_col\n",
    "    props['max_col']    = max_col\n",
    "    props['n_voxels_convex'] = region.area_convex\n",
    "    props['concavity'] = props['n_voxels_convex'] / props['n_voxels']\n",
    "    props_df = pd.concat(\n",
    "        [props_df, pd.DataFrame.from_records([props])], ignore_index=True\n",
    "    )\n"
   ]
  },
  {
   "cell_type": "code",
   "execution_count": null,
   "metadata": {},
   "outputs": [],
   "source": [
    "props_df = props_df.sort_values('concavity', ascending=False)\n",
    "props_df"
   ]
  },
  {
   "cell_type": "code",
   "execution_count": null,
   "metadata": {},
   "outputs": [],
   "source": [
    "props_df['concavity'].hist()"
   ]
  },
  {
   "cell_type": "code",
   "execution_count": null,
   "metadata": {},
   "outputs": [],
   "source": [
    "i = props_df.iloc[0]['particleID']\n",
    "print(props_df.iloc[i]['particleID'])\n",
    "stl_path = Path(\n",
    "    f'../../PSAAP/alshibli_1551_study'\n",
    "    f'/segmentflow_output/output_160_2mpd'\n",
    "    f'/output_160_STLs/output_160_{i:04}.stl')\n",
    "print(stl_path)\n",
    "mesh = trimesh.load(str(stl_path))\n",
    "# mesh.visual.face_colors = [253,231,36,255]\n",
    "# Establish scene\n",
    "scene = trimesh.Scene()\n",
    "scene.add_geometry(mesh)\n",
    "scene.show()"
   ]
  },
  {
   "cell_type": "code",
   "execution_count": null,
   "metadata": {},
   "outputs": [],
   "source": [
    "concave_idcs = props_df['particleID'][:50].to_list()\n",
    "concave_fns = [f'output_160_{i}' for i in concave_idcs]\n",
    "print(concave_fns)"
   ]
  },
  {
   "cell_type": "code",
   "execution_count": null,
   "metadata": {},
   "outputs": [],
   "source": [
    "conditions = [\n",
    "    # c <= 1\n",
    "    (props_df['concavity'] <= 1),\n",
    "    # 1 < c <= 1.1\n",
    "    (props_df['concavity'] > 1) & (props_df['concavity'] <= 1.1),\n",
    "    # 1.1 < c <= 1.2\n",
    "    (props_df['concavity'] > 1.1) & (props_df['concavity'] <= 1.2),\n",
    "    # 1.2 < c <= 1.3\n",
    "    (props_df['concavity'] > 1.2) & (props_df['concavity'] <= 1.3),\n",
    "    # 1.3 < c\n",
    "    (props_df['concavity'] > 1.3),\n",
    "]\n",
    "for i, condition in enumerate(conditions):\n",
    "    concave_idcs = props_df.loc[condition, 'particleID'].to_list()\n",
    "    concave_fns = [f'output_160_{i:04d}' for i in concave_idcs]\n",
    "    print(f'# N files: {len(concave_fns)}')\n",
    "    print(f\"bin_files['Bin {i}'] =\", concave_fns)"
   ]
  }
 ],
 "metadata": {
  "kernelspec": {
   "display_name": "segmentflow-env",
   "language": "python",
   "name": "python3"
  },
  "language_info": {
   "codemirror_mode": {
    "name": "ipython",
    "version": 3
   },
   "file_extension": ".py",
   "mimetype": "text/x-python",
   "name": "python",
   "nbconvert_exporter": "python",
   "pygments_lexer": "ipython3",
   "version": "3.9.5"
  }
 },
 "nbformat": 4,
 "nbformat_minor": 2
}
