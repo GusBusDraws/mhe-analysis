{
 "cells": [
  {
   "cell_type": "code",
   "execution_count": 1,
   "metadata": {},
   "outputs": [],
   "source": [
    "from pathlib import Path\n",
    "import matplotlib.pyplot as plt\n",
    "from matplotlib import animation\n",
    "import networkx as nx\n",
    "import numpy as np\n",
    "import pandas as pd\n",
    "from segmentflow import segment, view\n",
    "from skimage import graph, measure\n",
    "import trimesh\n",
    "%matplotlib qt\n",
    "%load_ext autoreload\n",
    "%autoreload 2"
   ]
  },
  {
   "cell_type": "code",
   "execution_count": 2,
   "metadata": {},
   "outputs": [],
   "source": [
    "# https://networkx.org/documentation/latest/auto_examples/3d_drawing/plot_3d_rotation_animation.html#sphx-glr-auto-examples-3d-drawing-plot-3d-rotation-animation-py\n",
    "G = nx.dodecahedral_graph()\n",
    "pos = nx.spectral_layout(G, dim=3)\n",
    "nodes = np.array([pos[v] for v in G])\n",
    "edges = np.array([(pos[u], pos[v]) for u, v in G.edges()])\n",
    "def init():\n",
    "    ax.scatter(*nodes.T, alpha=0.2, s=100, color=\"blue\")\n",
    "    for vizedge in edges:\n",
    "        ax.plot(*vizedge.T, color=\"gray\")\n",
    "    ax.grid(False)\n",
    "    ax.set_axis_off()\n",
    "    plt.tight_layout()\n",
    "    return\n",
    "\n",
    "def _frame_update(index):\n",
    "    ax.view_init(index * 0.2, index * 0.5)\n",
    "    return\n",
    "\n",
    "fig = plt.figure()\n",
    "ax = fig.add_subplot(111, projection=\"3d\")\n",
    "\n",
    "ani = animation.FuncAnimation(\n",
    "    fig,\n",
    "    _frame_update,\n",
    "    init_func=init,\n",
    "    interval=50,\n",
    "    cache_frame_data=False,\n",
    "    frames=100,\n",
    ")\n",
    "plt.show()"
   ]
  },
  {
   "cell_type": "code",
   "execution_count": 2,
   "metadata": {},
   "outputs": [
    {
     "name": "stdout",
     "output_type": "stream",
     "text": [
      "type(G)=<class 'networkx.classes.graph.Graph'>\n"
     ]
    }
   ],
   "source": [
    "G = nx.dodecahedral_graph()\n",
    "print(f'{type(G)=}')\n",
    "pos = nx.spectral_layout(G, dim=3)\n",
    "nodes = np.array([pos[v] for v in G])\n",
    "edges = np.array([(pos[u], pos[v]) for u, v in G.edges()])\n",
    "fig = plt.figure()\n",
    "ax = fig.add_subplot(111, projection=\"3d\")\n",
    "ax.scatter(*nodes.T, alpha=0.2, s=100, color=\"blue\")\n",
    "for vizedge in edges:\n",
    "    ax.plot(*vizedge.T, color=\"gray\")\n",
    "ax.grid(False)\n",
    "ax.set_axis_off()\n",
    "plt.tight_layout()\n",
    "plt.show()"
   ]
  },
  {
   "cell_type": "code",
   "execution_count": 3,
   "metadata": {},
   "outputs": [
    {
     "name": "stdout",
     "output_type": "stream",
     "text": [
      "C:\\Users\\gusb\\Research\\PSAAP\\alshibli_1551_study\\segmentflow_output\\output_160_2mpd\\output_160_labeled_voxels\n",
      "Loading images...\n",
      "--> Images loaded as 3D array:  (160, 240, 240)\n",
      "type(rag)=<class 'skimage.graph._rag.RAG'>\n"
     ]
    }
   ],
   "source": [
    "img_dir_path = Path(\n",
    "    f'../../PSAAP/alshibli_1551_study'\n",
    "    f'/segmentflow_output/output_160_2mpd'\n",
    "    f'/output_160_labeled_voxels')\n",
    "print(img_dir_path.resolve())\n",
    "imgs_labeled = segment.load_images(img_dir_path, file_suffix='tif')\n",
    "rag = graph.RAG(label_image=imgs_labeled, connectivity=2)\n",
    "print(f'{type(rag)=}')"
   ]
  },
  {
   "cell_type": "code",
   "execution_count": 11,
   "metadata": {},
   "outputs": [
    {
     "ename": "KeyError",
     "evalue": "'centroid'",
     "output_type": "error",
     "traceback": [
      "\u001b[1;31m---------------------------------------------------------------------------\u001b[0m",
      "\u001b[1;31mKeyError\u001b[0m                                  Traceback (most recent call last)",
      "Input \u001b[1;32mIn [11]\u001b[0m, in \u001b[0;36m<cell line: 15>\u001b[1;34m()\u001b[0m\n\u001b[0;32m     11\u001b[0m     data[\u001b[38;5;124m'\u001b[39m\u001b[38;5;124mcentroid\u001b[39m\u001b[38;5;124m'\u001b[39m] \u001b[38;5;241m=\u001b[39m \u001b[38;5;28mtuple\u001b[39m(\u001b[38;5;28mmap\u001b[39m(\u001b[38;5;28mint\u001b[39m, region[\u001b[38;5;124m'\u001b[39m\u001b[38;5;124mcentroid\u001b[39m\u001b[38;5;124m'\u001b[39m]))\n\u001b[0;32m     12\u001b[0m \u001b[38;5;66;03m# Defining the end points of the edges\u001b[39;00m\n\u001b[0;32m     13\u001b[0m \u001b[38;5;66;03m# The tuple[::-1] syntax reverses a tuple as matplotlib uses (x,y)\u001b[39;00m\n\u001b[0;32m     14\u001b[0m \u001b[38;5;66;03m# convention while skimage uses (row, column)\u001b[39;00m\n\u001b[1;32m---> 15\u001b[0m edges \u001b[38;5;241m=\u001b[39m [[rag\u001b[38;5;241m.\u001b[39mnodes[n1][\u001b[38;5;124m'\u001b[39m\u001b[38;5;124mcentroid\u001b[39m\u001b[38;5;124m'\u001b[39m][::\u001b[38;5;241m-\u001b[39m\u001b[38;5;241m1\u001b[39m], rag\u001b[38;5;241m.\u001b[39mnodes[n2][\u001b[38;5;124m'\u001b[39m\u001b[38;5;124mcentroid\u001b[39m\u001b[38;5;124m'\u001b[39m][::\u001b[38;5;241m-\u001b[39m\u001b[38;5;241m1\u001b[39m]]\n\u001b[0;32m     16\u001b[0m             \u001b[38;5;28;01mfor\u001b[39;00m (n1, n2) \u001b[38;5;129;01min\u001b[39;00m rag\u001b[38;5;241m.\u001b[39medges()]\n",
      "Input \u001b[1;32mIn [11]\u001b[0m, in \u001b[0;36m<listcomp>\u001b[1;34m(.0)\u001b[0m\n\u001b[0;32m     11\u001b[0m     data[\u001b[38;5;124m'\u001b[39m\u001b[38;5;124mcentroid\u001b[39m\u001b[38;5;124m'\u001b[39m] \u001b[38;5;241m=\u001b[39m \u001b[38;5;28mtuple\u001b[39m(\u001b[38;5;28mmap\u001b[39m(\u001b[38;5;28mint\u001b[39m, region[\u001b[38;5;124m'\u001b[39m\u001b[38;5;124mcentroid\u001b[39m\u001b[38;5;124m'\u001b[39m]))\n\u001b[0;32m     12\u001b[0m \u001b[38;5;66;03m# Defining the end points of the edges\u001b[39;00m\n\u001b[0;32m     13\u001b[0m \u001b[38;5;66;03m# The tuple[::-1] syntax reverses a tuple as matplotlib uses (x,y)\u001b[39;00m\n\u001b[0;32m     14\u001b[0m \u001b[38;5;66;03m# convention while skimage uses (row, column)\u001b[39;00m\n\u001b[1;32m---> 15\u001b[0m edges \u001b[38;5;241m=\u001b[39m [[rag\u001b[38;5;241m.\u001b[39mnodes[n1][\u001b[38;5;124m'\u001b[39m\u001b[38;5;124mcentroid\u001b[39m\u001b[38;5;124m'\u001b[39m][::\u001b[38;5;241m-\u001b[39m\u001b[38;5;241m1\u001b[39m], \u001b[43mrag\u001b[49m\u001b[38;5;241;43m.\u001b[39;49m\u001b[43mnodes\u001b[49m\u001b[43m[\u001b[49m\u001b[43mn2\u001b[49m\u001b[43m]\u001b[49m\u001b[43m[\u001b[49m\u001b[38;5;124;43m'\u001b[39;49m\u001b[38;5;124;43mcentroid\u001b[39;49m\u001b[38;5;124;43m'\u001b[39;49m\u001b[43m]\u001b[49m[::\u001b[38;5;241m-\u001b[39m\u001b[38;5;241m1\u001b[39m]]\n\u001b[0;32m     16\u001b[0m             \u001b[38;5;28;01mfor\u001b[39;00m (n1, n2) \u001b[38;5;129;01min\u001b[39;00m rag\u001b[38;5;241m.\u001b[39medges()]\n",
      "\u001b[1;31mKeyError\u001b[0m: 'centroid'"
     ]
    }
   ],
   "source": [
    "# pos = nx.spectral_layout(rag, dim=3)\n",
    "# nodes = np.array([pos[v] for v in rag])\n",
    "# edges = np.array([(pos[u], pos[v]) for u, v in rag.edges()])\n",
    "map_array = np.arange(imgs_labeled.max() + 1)\n",
    "rag_labels = map_array[imgs_labeled]\n",
    "regions = measure.regionprops(rag_labels)\n",
    "for (n, data), region in zip(rag.nodes(data=True), regions):\n",
    "    data['centroid'] = tuple(map(int, region['centroid']))\n",
    "# Defining the end points of the edges\n",
    "# The tuple[::-1] syntax reverses a tuple as matplotlib uses (x,y)\n",
    "# convention while skimage uses (row, column)\n",
    "edges = [[rag.nodes[n1]['centroid'][::-1], rag.nodes[n2]['centroid'][::-1]]\n",
    "            for (n1, n2) in rag.edges()]\n"
   ]
  },
  {
   "cell_type": "code",
   "execution_count": 7,
   "metadata": {},
   "outputs": [
    {
     "ename": "TypeError",
     "evalue": "scatter() got multiple values for argument 's'",
     "output_type": "error",
     "traceback": [
      "\u001b[1;31m---------------------------------------------------------------------------\u001b[0m",
      "\u001b[1;31mTypeError\u001b[0m                                 Traceback (most recent call last)",
      "Input \u001b[1;32mIn [7]\u001b[0m, in \u001b[0;36m<cell line: 5>\u001b[1;34m()\u001b[0m\n\u001b[0;32m      3\u001b[0m fig \u001b[38;5;241m=\u001b[39m plt\u001b[38;5;241m.\u001b[39mfigure()\n\u001b[0;32m      4\u001b[0m ax \u001b[38;5;241m=\u001b[39m fig\u001b[38;5;241m.\u001b[39madd_subplot(\u001b[38;5;241m111\u001b[39m, projection\u001b[38;5;241m=\u001b[39m\u001b[38;5;124m\"\u001b[39m\u001b[38;5;124m3d\u001b[39m\u001b[38;5;124m\"\u001b[39m)\n\u001b[1;32m----> 5\u001b[0m \u001b[43max\u001b[49m\u001b[38;5;241;43m.\u001b[39;49m\u001b[43mscatter\u001b[49m\u001b[43m(\u001b[49m\u001b[38;5;241;43m*\u001b[39;49m\u001b[43mnp\u001b[49m\u001b[38;5;241;43m.\u001b[39;49m\u001b[43marray\u001b[49m\u001b[43m(\u001b[49m\u001b[43mnodes\u001b[49m\u001b[43m)\u001b[49m\u001b[38;5;241;43m.\u001b[39;49m\u001b[43mT\u001b[49m\u001b[43m,\u001b[49m\u001b[43m \u001b[49m\u001b[43malpha\u001b[49m\u001b[38;5;241;43m=\u001b[39;49m\u001b[38;5;241;43m0.2\u001b[39;49m\u001b[43m,\u001b[49m\u001b[43m \u001b[49m\u001b[43ms\u001b[49m\u001b[38;5;241;43m=\u001b[39;49m\u001b[38;5;241;43m100\u001b[39;49m\u001b[43m,\u001b[49m\u001b[43m \u001b[49m\u001b[43mcolor\u001b[49m\u001b[38;5;241;43m=\u001b[39;49m\u001b[38;5;124;43m\"\u001b[39;49m\u001b[38;5;124;43mblue\u001b[39;49m\u001b[38;5;124;43m\"\u001b[39;49m\u001b[43m)\u001b[49m\n\u001b[0;32m      6\u001b[0m \u001b[38;5;28;01mfor\u001b[39;00m vizedge \u001b[38;5;129;01min\u001b[39;00m edges:\n\u001b[0;32m      7\u001b[0m     ax\u001b[38;5;241m.\u001b[39mplot(\u001b[38;5;241m*\u001b[39mnp\u001b[38;5;241m.\u001b[39marray(vizedge)\u001b[38;5;241m.\u001b[39mT, color\u001b[38;5;241m=\u001b[39m\u001b[38;5;124m\"\u001b[39m\u001b[38;5;124mgray\u001b[39m\u001b[38;5;124m\"\u001b[39m)\n",
      "File \u001b[1;32mc:\\Users\\gusb\\Python\\envs\\segmentflow-env\\lib\\site-packages\\matplotlib\\__init__.py:1412\u001b[0m, in \u001b[0;36m_preprocess_data.<locals>.inner\u001b[1;34m(ax, data, *args, **kwargs)\u001b[0m\n\u001b[0;32m   1409\u001b[0m \u001b[38;5;129m@functools\u001b[39m\u001b[38;5;241m.\u001b[39mwraps(func)\n\u001b[0;32m   1410\u001b[0m \u001b[38;5;28;01mdef\u001b[39;00m \u001b[38;5;21minner\u001b[39m(ax, \u001b[38;5;241m*\u001b[39margs, data\u001b[38;5;241m=\u001b[39m\u001b[38;5;28;01mNone\u001b[39;00m, \u001b[38;5;241m*\u001b[39m\u001b[38;5;241m*\u001b[39mkwargs):\n\u001b[0;32m   1411\u001b[0m     \u001b[38;5;28;01mif\u001b[39;00m data \u001b[38;5;129;01mis\u001b[39;00m \u001b[38;5;28;01mNone\u001b[39;00m:\n\u001b[1;32m-> 1412\u001b[0m         \u001b[38;5;28;01mreturn\u001b[39;00m func(ax, \u001b[38;5;241m*\u001b[39m\u001b[38;5;28mmap\u001b[39m(sanitize_sequence, args), \u001b[38;5;241m*\u001b[39m\u001b[38;5;241m*\u001b[39mkwargs)\n\u001b[0;32m   1414\u001b[0m     bound \u001b[38;5;241m=\u001b[39m new_sig\u001b[38;5;241m.\u001b[39mbind(ax, \u001b[38;5;241m*\u001b[39margs, \u001b[38;5;241m*\u001b[39m\u001b[38;5;241m*\u001b[39mkwargs)\n\u001b[0;32m   1415\u001b[0m     auto_label \u001b[38;5;241m=\u001b[39m (bound\u001b[38;5;241m.\u001b[39marguments\u001b[38;5;241m.\u001b[39mget(label_namer)\n\u001b[0;32m   1416\u001b[0m                   \u001b[38;5;129;01mor\u001b[39;00m bound\u001b[38;5;241m.\u001b[39mkwargs\u001b[38;5;241m.\u001b[39mget(label_namer))\n",
      "\u001b[1;31mTypeError\u001b[0m: scatter() got multiple values for argument 's'"
     ]
    }
   ],
   "source": [
    "edges = rag.edges()\n",
    "nodes = rag.nodes()\n",
    "fig = plt.figure()\n",
    "ax = fig.add_subplot(111, projection=\"3d\")\n",
    "ax.scatter(*np.array(nodes).T, alpha=0.2, s=100, color=\"blue\")\n",
    "for vizedge in edges:\n",
    "    ax.plot(*np.array(vizedge).T, color=\"gray\")\n",
    "ax.grid(False)\n",
    "ax.set_axis_off()\n",
    "plt.tight_layout()\n",
    "plt.show()\n"
   ]
  },
  {
   "cell_type": "code",
   "execution_count": null,
   "metadata": {},
   "outputs": [],
   "source": [
    "props_df = pd.DataFrame(columns=[\n",
    "    'particleID',\n",
    "    'n_voxels',\n",
    "    'centroid',\n",
    "    'min_slice',\n",
    "    'max_slice',\n",
    "    'min_row',\n",
    "    'max_row',\n",
    "    'min_col',\n",
    "    'max_col'\n",
    "])\n",
    "regions = measure.regionprops(imgs_labeled)\n",
    "# n_particles = len(regions)\n",
    "for region in regions:\n",
    "    # Get bounding slice, row, and column\n",
    "    min_slice, min_row, min_col, max_slice, max_row, max_col = region.bbox\n",
    "    # Get centroid coords in slice, row, col and reverse to get x, y, z\n",
    "    centroid_x, centroid_y, centroid_z = (\n",
    "        reversed([str(round(coord)) for coord in region.centroid])\n",
    "    )\n",
    "    props = {}\n",
    "    props['particleID'] = region.label\n",
    "    props['n_voxels']   = region.area\n",
    "    props['centroid_x'] = centroid_x\n",
    "    props['centroid_y'] = centroid_y\n",
    "    props['centroid_z'] = centroid_z\n",
    "    props['min_slice']  = min_slice\n",
    "    props['max_slice']  = max_slice\n",
    "    props['min_row']    = min_row\n",
    "    props['max_row']    = max_row\n",
    "    props['min_col']    = min_col\n",
    "    props['max_col']    = max_col\n",
    "    props_df = pd.concat(\n",
    "        [props_df, pd.DataFrame.from_records([props])], ignore_index=True\n",
    "    )\n"
   ]
  },
  {
   "cell_type": "code",
   "execution_count": null,
   "metadata": {},
   "outputs": [],
   "source": [
    "props_df = pd.DataFrame(columns=[\n",
    "    'particleID',\n",
    "    'n_voxels',\n",
    "    'centroid',\n",
    "    'min_slice',\n",
    "    'max_slice',\n",
    "    'min_row',\n",
    "    'max_row',\n",
    "    'min_col',\n",
    "    'max_col',\n",
    "    'n_voxels_convex',\n",
    "    'convex_to_concave',\n",
    "])\n",
    "regions = measure.regionprops(imgs_labeled)\n",
    "# n_particles = len(regions)\n",
    "for region in regions:\n",
    "    # Get bounding slice, row, and column\n",
    "    min_slice, min_row, min_col, max_slice, max_row, max_col = region.bbox\n",
    "    # Get centroid coords in slice, row, col and reverse to get x, y, z\n",
    "    centroid_x, centroid_y, centroid_z = (\n",
    "        reversed([str(round(coord)) for coord in region.centroid])\n",
    "    )\n",
    "    props = {}\n",
    "    props['particleID'] = region.label\n",
    "    props['n_voxels']   = region.area\n",
    "    props['centroid_x'] = centroid_x\n",
    "    props['centroid_y'] = centroid_y\n",
    "    props['centroid_z'] = centroid_z\n",
    "    props['min_slice']  = min_slice\n",
    "    props['max_slice']  = max_slice\n",
    "    props['min_row']    = min_row\n",
    "    props['max_row']    = max_row\n",
    "    props['min_col']    = min_col\n",
    "    props['max_col']    = max_col\n",
    "    props['n_voxels_convex'] = region.area_convex\n",
    "    props['concavity'] = props['n_voxels_convex'] / props['n_voxels']\n",
    "    props_df = pd.concat(\n",
    "        [props_df, pd.DataFrame.from_records([props])], ignore_index=True\n",
    "    )\n"
   ]
  },
  {
   "cell_type": "code",
   "execution_count": null,
   "metadata": {},
   "outputs": [],
   "source": [
    "props_df = props_df.sort_values('concavity', ascending=False)\n",
    "props_df"
   ]
  },
  {
   "cell_type": "code",
   "execution_count": null,
   "metadata": {},
   "outputs": [],
   "source": [
    "props_df['concavity'].hist()"
   ]
  },
  {
   "cell_type": "code",
   "execution_count": null,
   "metadata": {},
   "outputs": [],
   "source": [
    "i = props_df.iloc[0]['particleID']\n",
    "print(props_df.iloc[i]['particleID'])\n",
    "stl_path = Path(\n",
    "    f'../../PSAAP/alshibli_1551_study'\n",
    "    f'/segmentflow_output/output_160_2mpd'\n",
    "    f'/output_160_STLs/output_160_{i:04}.stl')\n",
    "print(stl_path)\n",
    "mesh = trimesh.load(str(stl_path))\n",
    "# mesh.visual.face_colors = [253,231,36,255]\n",
    "# Establish scene\n",
    "scene = trimesh.Scene()\n",
    "scene.add_geometry(mesh)\n",
    "scene.show()"
   ]
  },
  {
   "cell_type": "code",
   "execution_count": null,
   "metadata": {},
   "outputs": [],
   "source": [
    "concave_idcs = props_df['particleID'][:50].to_list()\n",
    "concave_fns = [f'output_160_{i}' for i in concave_idcs]\n",
    "print(concave_fns)"
   ]
  },
  {
   "cell_type": "code",
   "execution_count": null,
   "metadata": {},
   "outputs": [],
   "source": [
    "conditions = [\n",
    "    # c <= 1\n",
    "    (props_df['concavity'] <= 1),\n",
    "    # 1 < c <= 1.1\n",
    "    (props_df['concavity'] > 1) & (props_df['concavity'] <= 1.1),\n",
    "    # 1.1 < c <= 1.2\n",
    "    (props_df['concavity'] > 1.1) & (props_df['concavity'] <= 1.2),\n",
    "    # 1.2 < c <= 1.3\n",
    "    (props_df['concavity'] > 1.2) & (props_df['concavity'] <= 1.3),\n",
    "    # 1.3 < c\n",
    "    (props_df['concavity'] > 1.3),\n",
    "]\n",
    "for i, condition in enumerate(conditions):\n",
    "    concave_idcs = props_df.loc[condition, 'particleID'].to_list()\n",
    "    concave_fns = [f'output_160_{i:04d}' for i in concave_idcs]\n",
    "    print(f'# N files: {len(concave_fns)}')\n",
    "    print(f\"bin_files['Bin {i}'] =\", concave_fns)"
   ]
  }
 ],
 "metadata": {
  "kernelspec": {
   "display_name": "segmentflow-env",
   "language": "python",
   "name": "python3"
  },
  "language_info": {
   "codemirror_mode": {
    "name": "ipython",
    "version": 3
   },
   "file_extension": ".py",
   "mimetype": "text/x-python",
   "name": "python",
   "nbconvert_exporter": "python",
   "pygments_lexer": "ipython3",
   "version": "3.9.5"
  }
 },
 "nbformat": 4,
 "nbformat_minor": 2
}
