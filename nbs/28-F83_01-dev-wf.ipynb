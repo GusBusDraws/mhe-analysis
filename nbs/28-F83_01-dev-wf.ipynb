{
 "cells": [
  {
   "cell_type": "code",
   "execution_count": null,
   "metadata": {},
   "outputs": [],
   "source": [
    "import matplotlib.pyplot as plt\n",
    "import numpy as np\n",
    "import pandas as pd\n",
    "from pathlib import Path\n",
    "import plotly.express as px\n",
    "import scipy\n",
    "from skimage import color, exposure, measure, morphology, util\n",
    "from segmentflow import segment, view\n",
    "%load_ext autoreload\n",
    "%autoreload 2"
   ]
  },
  {
   "attachments": {},
   "cell_type": "markdown",
   "metadata": {},
   "source": [
    "## Load images"
   ]
  },
  {
   "cell_type": "code",
   "execution_count": null,
   "metadata": {},
   "outputs": [],
   "source": [
    "# imgs_path = Path('../data/F83_01')\n",
    "imgs_path = Path('../data/F83_01_med')\n",
    "slices = [250, 500, 750]\n",
    "# imgs = segment.load_images(\n",
    "imgs_med = segment.load_images(\n",
    "    imgs_path,\n",
    "    slice_crop=None,\n",
    "    # convert_to_float=True,\n",
    "    file_suffix='.tif'\n",
    ")\n",
    "fig, axes = view.plot_slices(\n",
    "    # imgs,\n",
    "    imgs_med,\n",
    "    slices=slices,\n",
    "    print_slices=True,\n",
    "    imgs_per_row=None,\n",
    "    fig_w=7.5,\n",
    "    dpi=100\n",
    ")"
   ]
  },
  {
   "cell_type": "code",
   "execution_count": null,
   "metadata": {},
   "outputs": [],
   "source": [
    "# imgs_med = segment.preprocess(imgs, median_filter=True)"
   ]
  },
  {
   "cell_type": "code",
   "execution_count": null,
   "metadata": {},
   "outputs": [],
   "source": [
    "med_hist, med_bins_centers = exposure.histogram(imgs_med)\n",
    "fig, ax = plt.subplots()\n",
    "ax.plot(med_bins_centers, med_hist)"
   ]
  },
  {
   "cell_type": "code",
   "execution_count": null,
   "metadata": {},
   "outputs": [],
   "source": [
    "lo = np.percentile(imgs_med, 25.5)\n",
    "hi = np.percentile(imgs_med, 99.98)\n",
    "fig, ax = plt.subplots()\n",
    "ax.plot(med_bins_centers, med_hist)\n",
    "ax.axvline(lo, c='red')\n",
    "ax.axvline(hi, c='red')\n",
    "plt.show()"
   ]
  },
  {
   "attachments": {},
   "cell_type": "markdown",
   "metadata": {},
   "source": [
    "## Rescale intensity"
   ]
  },
  {
   "cell_type": "code",
   "execution_count": null,
   "metadata": {},
   "outputs": [],
   "source": [
    "imgs = None\n",
    "imgs_res = None\n",
    "imgs_med = segment.preprocess(imgs_med, rescale_intensity_range=[25.5, 99.98])\n",
    "fig, axes = view.plot_slices(\n",
    "    imgs_med,\n",
    "    slices=slices,\n",
    "    print_slices=True,\n",
    "    imgs_per_row=None,\n",
    "    fig_w=7.5,\n",
    "    dpi=100\n",
    ")"
   ]
  },
  {
   "cell_type": "code",
   "execution_count": null,
   "metadata": {},
   "outputs": [],
   "source": [
    "segment.save_images(imgs_med, Path('../data/F83_01_pre'))"
   ]
  },
  {
   "cell_type": "code",
   "execution_count": null,
   "metadata": {},
   "outputs": [],
   "source": [
    "hist, bins_centers = exposure.histogram(imgs_res)\n",
    "fig, ax = plt.subplots()\n",
    "ax.plot(bins_centers, hist)\n",
    "ax.set_ylim([0, 1e5])\n",
    "plt.show()"
   ]
  },
  {
   "cell_type": "code",
   "execution_count": null,
   "metadata": {},
   "outputs": [],
   "source": [
    "thresholds, fig, ax = segment.threshold_multi_min(\n",
    "    imgs_res, nbins=150, nthresholds='all', return_fig_ax=True, ylims=[0, 2e7])\n",
    "plt.show()"
   ]
  },
  {
   "cell_type": "code",
   "execution_count": null,
   "metadata": {},
   "outputs": [],
   "source": [
    "imgs_semantic = segment.isolate_classes(imgs_med, thresholds)\n",
    "for i in range(len(thresholds) + 1):\n",
    "    print('imgs_semantic =', i)\n",
    "    fig, axes = view.plot_slices(\n",
    "        imgs_semantic==i,\n",
    "        slices=slices,\n",
    "        print_slices=False,\n",
    "        fig_w=7.5,\n",
    "        dpi=100\n",
    "    )\n",
    "    plt.show()"
   ]
  },
  {
   "cell_type": "code",
   "execution_count": null,
   "metadata": {},
   "outputs": [],
   "source": [
    "imgs = None\n",
    "imgs_med = None\n",
    "imgs_res = None\n",
    "imgs_labeled = segment.watershed_segment(\n",
    "    imgs_semantic==len(thresholds),\n",
    "    min_peak_distance=6,\n",
    "    exclude_borders=True,\n",
    "    return_dict=False\n",
    ")\n",
    "fig, axes = view.plot_color_labels(\n",
    "    imgs_labeled,\n",
    "    slices=slices,\n",
    "    fig_w=7.5,\n",
    "    dpi=100\n",
    ")"
   ]
  }
 ],
 "metadata": {
  "kernelspec": {
   "display_name": "segmentflow-env",
   "language": "python",
   "name": "python3"
  },
  "language_info": {
   "codemirror_mode": {
    "name": "ipython",
    "version": 3
   },
   "file_extension": ".py",
   "mimetype": "text/x-python",
   "name": "python",
   "nbconvert_exporter": "python",
   "pygments_lexer": "ipython3",
   "version": "3.9.5"
  },
  "orig_nbformat": 4,
  "vscode": {
   "interpreter": {
    "hash": "c3ea4ac3b0a981222cd6c1b31ef210f70ea1aaeaaf9d024a28a9ae05259f6363"
   }
  }
 },
 "nbformat": 4,
 "nbformat_minor": 2
}
