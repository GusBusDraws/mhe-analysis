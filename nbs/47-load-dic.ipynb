{
 "cells": [
  {
   "cell_type": "code",
   "execution_count": 113,
   "metadata": {},
   "outputs": [],
   "source": [
    "import matplotlib.pyplot as plt\n",
    "from mpl_toolkits.axes_grid1 import make_axes_locatable\n",
    "import numpy as np\n",
    "from pathlib import Path\n",
    "import pandas as pd\n",
    "from skimage import measure"
   ]
  },
  {
   "cell_type": "code",
   "execution_count": 35,
   "metadata": {},
   "outputs": [
    {
     "data": {
      "text/html": [
       "<div>\n",
       "<style scoped>\n",
       "    .dataframe tbody tr th:only-of-type {\n",
       "        vertical-align: middle;\n",
       "    }\n",
       "\n",
       "    .dataframe tbody tr th {\n",
       "        vertical-align: top;\n",
       "    }\n",
       "\n",
       "    .dataframe thead th {\n",
       "        text-align: right;\n",
       "    }\n",
       "</style>\n",
       "<table border=\"1\" class=\"dataframe\">\n",
       "  <thead>\n",
       "    <tr style=\"text-align: right;\">\n",
       "      <th></th>\n",
       "      <th>x</th>\n",
       "      <th>y</th>\n",
       "      <th>z</th>\n",
       "    </tr>\n",
       "  </thead>\n",
       "  <tbody>\n",
       "    <tr>\n",
       "      <th>0</th>\n",
       "      <td>915.951405</td>\n",
       "      <td>1604.166667</td>\n",
       "      <td>0.079314</td>\n",
       "    </tr>\n",
       "    <tr>\n",
       "      <th>1</th>\n",
       "      <td>960.722084</td>\n",
       "      <td>1604.166667</td>\n",
       "      <td>-0.123323</td>\n",
       "    </tr>\n",
       "    <tr>\n",
       "      <th>2</th>\n",
       "      <td>1005.266994</td>\n",
       "      <td>1604.166667</td>\n",
       "      <td>-0.270351</td>\n",
       "    </tr>\n",
       "    <tr>\n",
       "      <th>3</th>\n",
       "      <td>1049.518422</td>\n",
       "      <td>1604.166667</td>\n",
       "      <td>-0.091159</td>\n",
       "    </tr>\n",
       "    <tr>\n",
       "      <th>4</th>\n",
       "      <td>1093.401244</td>\n",
       "      <td>1604.166667</td>\n",
       "      <td>0.043436</td>\n",
       "    </tr>\n",
       "  </tbody>\n",
       "</table>\n",
       "</div>"
      ],
      "text/plain": [
       "             x            y         z\n",
       "0   915.951405  1604.166667  0.079314\n",
       "1   960.722084  1604.166667 -0.123323\n",
       "2  1005.266994  1604.166667 -0.270351\n",
       "3  1049.518422  1604.166667 -0.091159\n",
       "4  1093.401244  1604.166667  0.043436"
      ]
     },
     "execution_count": 35,
     "metadata": {},
     "output_type": "execute_result"
    }
   ],
   "source": [
    "dic_path = Path(\n",
    "    r\"C:\\Users\\cgusb\\Research\\mhe-analysis\\data\\DIC_Etz_0800_0000.plt\")\n",
    "# with open(dic_path, 'r') as f:\n",
    "#     dic = f.readlines()\n",
    "# dic\n",
    "df = pd.read_csv(dic_path, delimiter=' ', header=None)\n",
    "# Remove all ',' characters\n",
    "df[1] = df[1].str.replace(',', '')\n",
    "df[1] = df[1].astype(float)\n",
    "df = df.drop(columns=0)\n",
    "df = df.dropna().reset_index(drop=True)\n",
    "df = df.rename(columns={1:'x', 2:'y', 3:'z'})\n",
    "df.head()\n",
    "# df[1]"
   ]
  },
  {
   "cell_type": "code",
   "execution_count": 40,
   "metadata": {},
   "outputs": [
    {
     "data": {
      "text/plain": [
       "960.7220843140183"
      ]
     },
     "execution_count": 40,
     "metadata": {},
     "output_type": "execute_result"
    }
   ],
   "source": [
    "df['x'].loc[1]"
   ]
  },
  {
   "cell_type": "code",
   "execution_count": 43,
   "metadata": {},
   "outputs": [
    {
     "data": {
      "text/html": [
       "<div>\n",
       "<style scoped>\n",
       "    .dataframe tbody tr th:only-of-type {\n",
       "        vertical-align: middle;\n",
       "    }\n",
       "\n",
       "    .dataframe tbody tr th {\n",
       "        vertical-align: top;\n",
       "    }\n",
       "\n",
       "    .dataframe thead th {\n",
       "        text-align: right;\n",
       "    }\n",
       "</style>\n",
       "<table border=\"1\" class=\"dataframe\">\n",
       "  <thead>\n",
       "    <tr style=\"text-align: right;\">\n",
       "      <th></th>\n",
       "      <th>x</th>\n",
       "      <th>y</th>\n",
       "      <th>z</th>\n",
       "    </tr>\n",
       "  </thead>\n",
       "  <tbody>\n",
       "    <tr>\n",
       "      <th>0</th>\n",
       "      <td>0.000000</td>\n",
       "      <td>0.000000</td>\n",
       "      <td>0.079314</td>\n",
       "    </tr>\n",
       "    <tr>\n",
       "      <th>1</th>\n",
       "      <td>1.000000</td>\n",
       "      <td>0.000000</td>\n",
       "      <td>-0.123323</td>\n",
       "    </tr>\n",
       "    <tr>\n",
       "      <th>2</th>\n",
       "      <td>1.994957</td>\n",
       "      <td>0.000000</td>\n",
       "      <td>-0.270351</td>\n",
       "    </tr>\n",
       "    <tr>\n",
       "      <th>3</th>\n",
       "      <td>2.983359</td>\n",
       "      <td>0.000000</td>\n",
       "      <td>-0.091159</td>\n",
       "    </tr>\n",
       "    <tr>\n",
       "      <th>4</th>\n",
       "      <td>3.963528</td>\n",
       "      <td>0.000000</td>\n",
       "      <td>0.043436</td>\n",
       "    </tr>\n",
       "    <tr>\n",
       "      <th>5</th>\n",
       "      <td>4.933568</td>\n",
       "      <td>0.000000</td>\n",
       "      <td>0.064904</td>\n",
       "    </tr>\n",
       "    <tr>\n",
       "      <th>6</th>\n",
       "      <td>5.891304</td>\n",
       "      <td>0.000000</td>\n",
       "      <td>0.084273</td>\n",
       "    </tr>\n",
       "    <tr>\n",
       "      <th>7</th>\n",
       "      <td>6.834194</td>\n",
       "      <td>0.000000</td>\n",
       "      <td>0.230669</td>\n",
       "    </tr>\n",
       "    <tr>\n",
       "      <th>8</th>\n",
       "      <td>7.759232</td>\n",
       "      <td>0.000000</td>\n",
       "      <td>0.075180</td>\n",
       "    </tr>\n",
       "    <tr>\n",
       "      <th>9</th>\n",
       "      <td>8.662802</td>\n",
       "      <td>0.000000</td>\n",
       "      <td>-0.006713</td>\n",
       "    </tr>\n",
       "    <tr>\n",
       "      <th>10</th>\n",
       "      <td>9.540496</td>\n",
       "      <td>0.000000</td>\n",
       "      <td>0.027866</td>\n",
       "    </tr>\n",
       "    <tr>\n",
       "      <th>11</th>\n",
       "      <td>10.386861</td>\n",
       "      <td>0.000000</td>\n",
       "      <td>0.027497</td>\n",
       "    </tr>\n",
       "    <tr>\n",
       "      <th>12</th>\n",
       "      <td>0.000000</td>\n",
       "      <td>208.333333</td>\n",
       "      <td>-0.064354</td>\n",
       "    </tr>\n",
       "    <tr>\n",
       "      <th>13</th>\n",
       "      <td>1.000000</td>\n",
       "      <td>208.333333</td>\n",
       "      <td>-0.139296</td>\n",
       "    </tr>\n",
       "  </tbody>\n",
       "</table>\n",
       "</div>"
      ],
      "text/plain": [
       "            x           y         z\n",
       "0    0.000000    0.000000  0.079314\n",
       "1    1.000000    0.000000 -0.123323\n",
       "2    1.994957    0.000000 -0.270351\n",
       "3    2.983359    0.000000 -0.091159\n",
       "4    3.963528    0.000000  0.043436\n",
       "5    4.933568    0.000000  0.064904\n",
       "6    5.891304    0.000000  0.084273\n",
       "7    6.834194    0.000000  0.230669\n",
       "8    7.759232    0.000000  0.075180\n",
       "9    8.662802    0.000000 -0.006713\n",
       "10   9.540496    0.000000  0.027866\n",
       "11  10.386861    0.000000  0.027497\n",
       "12   0.000000  208.333333 -0.064354\n",
       "13   1.000000  208.333333 -0.139296"
      ]
     },
     "execution_count": 43,
     "metadata": {},
     "output_type": "execute_result"
    }
   ],
   "source": [
    "rs_df = df.copy()\n",
    "rs_df['x'] = (df['x'] - df['x'].min())\n",
    "rs_df['x'] = rs_df['x'] / rs_df['x'].loc[1]\n",
    "rs_df['y'] = df['y'] - df['y'].min()\n",
    "rs_df[:14]"
   ]
  },
  {
   "cell_type": "code",
   "execution_count": 79,
   "metadata": {},
   "outputs": [],
   "source": [
    "width = 12\n",
    "height = 12\n",
    "thresh = -0.2\n",
    "img = np.zeros((height, width))\n",
    "i = 0\n",
    "for x in range(width):\n",
    "    for y in range(height):\n",
    "        img[y, x] = df['z'].loc[i]\n",
    "        i += 1"
   ]
  },
  {
   "cell_type": "code",
   "execution_count": 102,
   "metadata": {},
   "outputs": [
    {
     "data": {
      "image/png": "[encoded data removed]",
      "text/plain": [
       "<Figure size 640x480 with 4 Axes>"
      ]
     },
     "metadata": {},
     "output_type": "display_data"
    }
   ],
   "source": [
    "from mpl_toolkits.axes_grid1 import make_axes_locatable\n",
    "fig, axes = plt.subplots(1, 2, tight_layout=True)\n",
    "ax = axes.ravel()\n",
    "# pos = ax.imshow(img)\n",
    "pos = ax[0].imshow(img, origin='lower')\n",
    "ax[0].set_title(dic_path.name)\n",
    "# create an axes on the right side of ax. The width of cax will be 5%\n",
    "# of ax and the padding between cax and ax will be fixed at 0.05 inch.\n",
    "divider = make_axes_locatable(ax[0])\n",
    "cax = divider.append_axes(\"right\", size=\"5%\", pad=0.1)\n",
    "# fig.colorbar(pos, ax=ax[0])\n",
    "fig.colorbar(pos, cax=cax)\n",
    "ax[1].imshow(img < thresh, origin='lower')\n",
    "ax[1].set_title(f'{dic_path.name} < {thresh}')\n",
    "divider = make_axes_locatable(ax[1])\n",
    "cax = divider.append_axes(\"right\", size=\"5%\", pad=0.1)\n",
    "cax.set_axis_off()"
   ]
  }
 ],
 "metadata": {
  "kernelspec": {
   "display_name": "segmentflow-env",
   "language": "python",
   "name": "python3"
  },
  "language_info": {
   "codemirror_mode": {
    "name": "ipython",
    "version": 3
   },
   "file_extension": ".py",
   "mimetype": "text/x-python",
   "name": "python",
   "nbconvert_exporter": "python",
   "pygments_lexer": "ipython3",
   "version": "3.9.5"
  }
 },
 "nbformat": 4,
 "nbformat_minor": 2
}
