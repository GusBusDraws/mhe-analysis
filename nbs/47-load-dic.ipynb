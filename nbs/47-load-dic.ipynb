{
 "cells": [
  {
   "cell_type": "code",
   "execution_count": 1,
   "metadata": {},
   "outputs": [],
   "source": [
    "import matplotlib.pyplot as plt\n",
    "from mpl_toolkits.axes_grid1 import make_axes_locatable\n",
    "import math\n",
    "import numpy as np\n",
    "from pathlib import Path\n",
    "import pandas as pd\n",
    "from segmentflow import view\n",
    "from skimage import measure"
   ]
  },
  {
   "cell_type": "markdown",
   "metadata": {},
   "source": [
    "## Develop"
   ]
  },
  {
   "cell_type": "markdown",
   "metadata": {},
   "source": [
    "### Load .plt"
   ]
  },
  {
   "cell_type": "code",
   "execution_count": 2,
   "metadata": {},
   "outputs": [
    {
     "data": {
      "text/html": [
       "<div>\n",
       "<style scoped>\n",
       "    .dataframe tbody tr th:only-of-type {\n",
       "        vertical-align: middle;\n",
       "    }\n",
       "\n",
       "    .dataframe tbody tr th {\n",
       "        vertical-align: top;\n",
       "    }\n",
       "\n",
       "    .dataframe thead th {\n",
       "        text-align: right;\n",
       "    }\n",
       "</style>\n",
       "<table border=\"1\" class=\"dataframe\">\n",
       "  <thead>\n",
       "    <tr style=\"text-align: right;\">\n",
       "      <th></th>\n",
       "      <th>x</th>\n",
       "      <th>y</th>\n",
       "      <th>z</th>\n",
       "    </tr>\n",
       "  </thead>\n",
       "  <tbody>\n",
       "    <tr>\n",
       "      <th>0</th>\n",
       "      <td>915.951405</td>\n",
       "      <td>1604.166667</td>\n",
       "      <td>0.079314</td>\n",
       "    </tr>\n",
       "    <tr>\n",
       "      <th>1</th>\n",
       "      <td>960.722084</td>\n",
       "      <td>1604.166667</td>\n",
       "      <td>-0.123323</td>\n",
       "    </tr>\n",
       "    <tr>\n",
       "      <th>2</th>\n",
       "      <td>1005.266994</td>\n",
       "      <td>1604.166667</td>\n",
       "      <td>-0.270351</td>\n",
       "    </tr>\n",
       "    <tr>\n",
       "      <th>3</th>\n",
       "      <td>1049.518422</td>\n",
       "      <td>1604.166667</td>\n",
       "      <td>-0.091159</td>\n",
       "    </tr>\n",
       "    <tr>\n",
       "      <th>4</th>\n",
       "      <td>1093.401244</td>\n",
       "      <td>1604.166667</td>\n",
       "      <td>0.043436</td>\n",
       "    </tr>\n",
       "  </tbody>\n",
       "</table>\n",
       "</div>"
      ],
      "text/plain": [
       "             x            y         z\n",
       "0   915.951405  1604.166667  0.079314\n",
       "1   960.722084  1604.166667 -0.123323\n",
       "2  1005.266994  1604.166667 -0.270351\n",
       "3  1049.518422  1604.166667 -0.091159\n",
       "4  1093.401244  1604.166667  0.043436"
      ]
     },
     "execution_count": 2,
     "metadata": {},
     "output_type": "execute_result"
    }
   ],
   "source": [
    "dic_path = Path(\n",
    "    r\"C:\\Users\\cgusb\\Research\\mhe-analysis\\data\\DIC_Etz_0800_0000.plt\")\n",
    "    # r\"C:\\Users\\cgusb\\Research\\mhe-analysis\\data\\DIC_Etz_0800_0000.plt\")\n",
    "# with open(dic_path, 'r') as f:\n",
    "#     dic = f.readlines()\n",
    "# dic\n",
    "df = pd.read_csv(dic_path, delimiter=' ', header=None)\n",
    "# Remove all ',' characters\n",
    "df[1] = df[1].str.replace(',', '')\n",
    "df[1] = df[1].astype(float)\n",
    "df = df.drop(columns=0)\n",
    "df = df.dropna().reset_index(drop=True)\n",
    "df = df.rename(columns={1:'x', 2:'y', 3:'z'})\n",
    "df.head()\n",
    "# df[1]"
   ]
  },
  {
   "cell_type": "code",
   "execution_count": 3,
   "metadata": {},
   "outputs": [
    {
     "data": {
      "text/plain": [
       "960.7220843140183"
      ]
     },
     "execution_count": 3,
     "metadata": {},
     "output_type": "execute_result"
    }
   ],
   "source": [
    "df['x'].loc[1]"
   ]
  },
  {
   "cell_type": "code",
   "execution_count": 4,
   "metadata": {},
   "outputs": [
    {
     "data": {
      "text/plain": [
       "(144,)"
      ]
     },
     "execution_count": 4,
     "metadata": {},
     "output_type": "execute_result"
    }
   ],
   "source": [
    "df.index.shape"
   ]
  },
  {
   "cell_type": "markdown",
   "metadata": {},
   "source": [
    "### Restructure data"
   ]
  },
  {
   "cell_type": "code",
   "execution_count": 5,
   "metadata": {},
   "outputs": [
    {
     "data": {
      "text/html": [
       "<div>\n",
       "<style scoped>\n",
       "    .dataframe tbody tr th:only-of-type {\n",
       "        vertical-align: middle;\n",
       "    }\n",
       "\n",
       "    .dataframe tbody tr th {\n",
       "        vertical-align: top;\n",
       "    }\n",
       "\n",
       "    .dataframe thead th {\n",
       "        text-align: right;\n",
       "    }\n",
       "</style>\n",
       "<table border=\"1\" class=\"dataframe\">\n",
       "  <thead>\n",
       "    <tr style=\"text-align: right;\">\n",
       "      <th></th>\n",
       "      <th>x</th>\n",
       "      <th>y</th>\n",
       "      <th>z</th>\n",
       "    </tr>\n",
       "  </thead>\n",
       "  <tbody>\n",
       "    <tr>\n",
       "      <th>0</th>\n",
       "      <td>0.000000</td>\n",
       "      <td>0.000000</td>\n",
       "      <td>0.079314</td>\n",
       "    </tr>\n",
       "    <tr>\n",
       "      <th>1</th>\n",
       "      <td>1.000000</td>\n",
       "      <td>0.000000</td>\n",
       "      <td>-0.123323</td>\n",
       "    </tr>\n",
       "    <tr>\n",
       "      <th>2</th>\n",
       "      <td>1.994957</td>\n",
       "      <td>0.000000</td>\n",
       "      <td>-0.270351</td>\n",
       "    </tr>\n",
       "    <tr>\n",
       "      <th>3</th>\n",
       "      <td>2.983359</td>\n",
       "      <td>0.000000</td>\n",
       "      <td>-0.091159</td>\n",
       "    </tr>\n",
       "    <tr>\n",
       "      <th>4</th>\n",
       "      <td>3.963528</td>\n",
       "      <td>0.000000</td>\n",
       "      <td>0.043436</td>\n",
       "    </tr>\n",
       "    <tr>\n",
       "      <th>5</th>\n",
       "      <td>4.933568</td>\n",
       "      <td>0.000000</td>\n",
       "      <td>0.064904</td>\n",
       "    </tr>\n",
       "    <tr>\n",
       "      <th>6</th>\n",
       "      <td>5.891304</td>\n",
       "      <td>0.000000</td>\n",
       "      <td>0.084273</td>\n",
       "    </tr>\n",
       "    <tr>\n",
       "      <th>7</th>\n",
       "      <td>6.834194</td>\n",
       "      <td>0.000000</td>\n",
       "      <td>0.230669</td>\n",
       "    </tr>\n",
       "    <tr>\n",
       "      <th>8</th>\n",
       "      <td>7.759232</td>\n",
       "      <td>0.000000</td>\n",
       "      <td>0.075180</td>\n",
       "    </tr>\n",
       "    <tr>\n",
       "      <th>9</th>\n",
       "      <td>8.662802</td>\n",
       "      <td>0.000000</td>\n",
       "      <td>-0.006713</td>\n",
       "    </tr>\n",
       "    <tr>\n",
       "      <th>10</th>\n",
       "      <td>9.540496</td>\n",
       "      <td>0.000000</td>\n",
       "      <td>0.027866</td>\n",
       "    </tr>\n",
       "    <tr>\n",
       "      <th>11</th>\n",
       "      <td>10.386861</td>\n",
       "      <td>0.000000</td>\n",
       "      <td>0.027497</td>\n",
       "    </tr>\n",
       "    <tr>\n",
       "      <th>12</th>\n",
       "      <td>0.000000</td>\n",
       "      <td>208.333333</td>\n",
       "      <td>-0.064354</td>\n",
       "    </tr>\n",
       "    <tr>\n",
       "      <th>13</th>\n",
       "      <td>1.000000</td>\n",
       "      <td>208.333333</td>\n",
       "      <td>-0.139296</td>\n",
       "    </tr>\n",
       "  </tbody>\n",
       "</table>\n",
       "</div>"
      ],
      "text/plain": [
       "            x           y         z\n",
       "0    0.000000    0.000000  0.079314\n",
       "1    1.000000    0.000000 -0.123323\n",
       "2    1.994957    0.000000 -0.270351\n",
       "3    2.983359    0.000000 -0.091159\n",
       "4    3.963528    0.000000  0.043436\n",
       "5    4.933568    0.000000  0.064904\n",
       "6    5.891304    0.000000  0.084273\n",
       "7    6.834194    0.000000  0.230669\n",
       "8    7.759232    0.000000  0.075180\n",
       "9    8.662802    0.000000 -0.006713\n",
       "10   9.540496    0.000000  0.027866\n",
       "11  10.386861    0.000000  0.027497\n",
       "12   0.000000  208.333333 -0.064354\n",
       "13   1.000000  208.333333 -0.139296"
      ]
     },
     "execution_count": 5,
     "metadata": {},
     "output_type": "execute_result"
    }
   ],
   "source": [
    "rs_df = df.copy()\n",
    "rs_df['x'] = (df['x'] - df['x'].min())\n",
    "rs_df['x'] = rs_df['x'] / rs_df['x'].loc[1]\n",
    "rs_df['y'] = df['y'] - df['y'].min()\n",
    "rs_df[:14]"
   ]
  },
  {
   "cell_type": "code",
   "execution_count": 6,
   "metadata": {},
   "outputs": [
    {
     "name": "stdout",
     "output_type": "stream",
     "text": [
      "x_res=44.770679188427835\n",
      "y_res=208.33333333333326\n",
      "img.shape=(12, 12)\n",
      "img.min()=-0.2755518856288532\n",
      "img.max()=0.2306688938251246\n"
     ]
    }
   ],
   "source": [
    "width = 12\n",
    "height = 12\n",
    "thresh = 0.1\n",
    "x_res = df['x'].loc[1] - df['x'].loc[0]\n",
    "print(f'{x_res=}')\n",
    "y_res = df['y'].loc[width] - df['y'].loc[0]\n",
    "print(f'{y_res=}')\n",
    "img = np.zeros((height, width))\n",
    "i = 0\n",
    "for x in range(width):\n",
    "    for y in range(height):\n",
    "        img[y, x] = df['z'].loc[i]\n",
    "        i += 1\n",
    "print(f'{img.shape=}')\n",
    "print(f'{img.min()=}')\n",
    "print(f'{img.max()=}')"
   ]
  },
  {
   "cell_type": "markdown",
   "metadata": {},
   "source": [
    "### Visualize data as image"
   ]
  },
  {
   "cell_type": "code",
   "execution_count": 7,
   "metadata": {},
   "outputs": [
    {
     "data": {
      "image/png": "[encoded data removed]",
      "text/plain": [
       "<Figure size 640x480 with 4 Axes>"
      ]
     },
     "metadata": {},
     "output_type": "display_data"
    }
   ],
   "source": [
    "fig, axes = plt.subplots(1, 2, tight_layout=True, facecolor='white')\n",
    "ax = axes.ravel()\n",
    "# pos = ax.imshow(img)\n",
    "pos = ax[0].imshow(img, origin='lower')\n",
    "ax[0].set_title(dic_path.name)\n",
    "# create an axes on the right side of ax. The width of cax will be 5%\n",
    "# of ax and the padding between cax and ax will be fixed at 0.05 inch.\n",
    "divider = make_axes_locatable(ax[0])\n",
    "cax = divider.append_axes(\"right\", size=\"5%\", pad=0.1)\n",
    "# fig.colorbar(pos, ax=ax[0])\n",
    "fig.colorbar(pos, cax=cax)\n",
    "ax[1].imshow(img > thresh, origin='lower')\n",
    "ax[1].set_title(f'{dic_path.name} > {thresh}')\n",
    "divider = make_axes_locatable(ax[1])\n",
    "cax = divider.append_axes(\"right\", size=\"5%\", pad=0.1)\n",
    "cax.set_axis_off()"
   ]
  },
  {
   "cell_type": "markdown",
   "metadata": {},
   "source": [
    "### Set pseudo-threshold as demo"
   ]
  },
  {
   "cell_type": "code",
   "execution_count": 8,
   "metadata": {},
   "outputs": [
    {
     "data": {
      "image/png": "[encoded data removed]",
      "text/plain": [
       "<Figure size 640x480 with 4 Axes>"
      ]
     },
     "metadata": {},
     "output_type": "display_data"
    }
   ],
   "source": [
    "thresh = -0.1\n",
    "fig, axes = plt.subplots(1, 2, tight_layout=True, facecolor='white')\n",
    "ax = axes.ravel()\n",
    "# pos = ax.imshow(img)\n",
    "pos = ax[0].imshow(img, origin='lower')\n",
    "ax[0].set_title(dic_path.name)\n",
    "# create an axes on the right side of ax. The width of cax will be 5%\n",
    "# of ax and the padding between cax and ax will be fixed at 0.05 inch.\n",
    "divider = make_axes_locatable(ax[0])\n",
    "cax = divider.append_axes(\"right\", size=\"5%\", pad=0.1)\n",
    "# fig.colorbar(pos, ax=ax[0])\n",
    "fig.colorbar(pos, cax=cax)\n",
    "ax[1].imshow(img < thresh, origin='lower')\n",
    "ax[1].set_title(f'{dic_path.name} < {thresh}')\n",
    "divider = make_axes_locatable(ax[1])\n",
    "cax = divider.append_axes(\"right\", size=\"5%\", pad=0.1)\n",
    "cax.set_axis_off()"
   ]
  },
  {
   "cell_type": "markdown",
   "metadata": {},
   "source": [
    "### Iterate through cracks"
   ]
  },
  {
   "cell_type": "markdown",
   "metadata": {},
   "source": [
    "Documentation for `skimage.measure.regionprops` located [here](https://scikit-image.org/docs/stable/api/skimage.measure.html#skimage.measure.regionprops)"
   ]
  },
  {
   "cell_type": "code",
   "execution_count": 9,
   "metadata": {},
   "outputs": [
    {
     "data": {
      "image/png": "[encoded data removed]",
      "text/plain": [
       "<Figure size 640x480 with 6 Axes>"
      ]
     },
     "metadata": {},
     "output_type": "display_data"
    }
   ],
   "source": [
    "img_bw = img < thresh\n",
    "img_labeled = measure.label(img_bw, connectivity=1)\n",
    "regions = measure.regionprops(img_labeled, spacing=(y_res, x_res))\n",
    "\n",
    "max_plot_cols = 3\n",
    "plot_rows = int(math.ceil(len(regions) / max_plot_cols))\n",
    "fig, axes = plt.subplots(\n",
    "    plot_rows, max_plot_cols, tight_layout=True, sharey=True, facecolor='white')\n",
    "ax = axes.ravel()\n",
    "for i in range(1, len(regions)+1):\n",
    "    ax[i-1].imshow(img_labeled==i, origin='lower')\n",
    "    ax[i-1].set_title(f'region = {i}')\n",
    "fig_diff = (max_plot_cols * plot_rows) - len(regions)\n",
    "if fig_diff > 0:\n",
    "    for i in range(len(regions), len(regions) + fig_diff):\n",
    "        ax[i].set_axis_off()"
   ]
  },
  {
   "cell_type": "markdown",
   "metadata": {},
   "source": [
    "### Print crack properties"
   ]
  },
  {
   "cell_type": "code",
   "execution_count": 10,
   "metadata": {},
   "outputs": [
    {
     "name": "stdout",
     "output_type": "stream",
     "text": [
      "particle = 1\n",
      "  area: 158562.82212568185\n",
      "  centroid: (220.5882352941176, 131.6784682012583)\n",
      "  eccentricity: 0.9391129323338053\n",
      "  equiv. diameter: 449.3199922719061\n",
      "  feret diameter max: 875.5588719122185\n",
      "particle = 2\n",
      "  area: 9327.224830922461\n",
      "  centroid: (624.9999999999998, 492.4774710727062)\n",
      "  eccentricity: 0\n",
      "  equiv. diameter: 108.97610516698705\n",
      "  feret diameter max: 208.33333333333326\n",
      "particle = 3\n",
      "  area: 74617.79864737969\n",
      "  centroid: (937.4999999999997, 268.624075130567)\n",
      "  eccentricity: 0.8911378416763951\n",
      "  equiv. diameter: 308.2309718034996\n",
      "  feret diameter max: 453.52147749693285\n",
      "particle = 4\n",
      "  area: 18654.449661844923\n",
      "  centroid: (1458.3333333333328, 201.46805634792526)\n",
      "  eccentricity: 1.0\n",
      "  equiv. diameter: 154.1154859017498\n",
      "  feret diameter max: 213.08963253234745\n",
      "particle = 5\n",
      "  area: 9327.224830922461\n",
      "  centroid: (2083.3333333333326, 89.54135837685567)\n",
      "  eccentricity: 0\n",
      "  equiv. diameter: 108.97610516698705\n",
      "  feret diameter max: 208.33333333333326\n"
     ]
    }
   ],
   "source": [
    "for region in regions:\n",
    "    print(f'particle = {region.label}')\n",
    "    print('  area:', region.area)\n",
    "    print('  centroid:', region.centroid)\n",
    "    print('  eccentricity:', region.eccentricity)\n",
    "    print('  equiv. diameter:', region.equivalent_diameter_area)\n",
    "    print('  feret diameter max:', region.feret_diameter_max)"
   ]
  },
  {
   "cell_type": "code",
   "execution_count": 11,
   "metadata": {},
   "outputs": [
    {
     "data": {
      "text/plain": [
       "18654.449661844923"
      ]
     },
     "execution_count": 11,
     "metadata": {},
     "output_type": "execute_result"
    }
   ],
   "source": [
    "2*x_res * 1*y_res"
   ]
  },
  {
   "cell_type": "markdown",
   "metadata": {},
   "source": [
    "## Bake into functions"
   ]
  },
  {
   "cell_type": "code",
   "execution_count": 18,
   "metadata": {},
   "outputs": [],
   "source": [
    "def plt_as_img(plt_path):\n",
    "    df = pd.read_csv(plt_path, delimiter=' ', header=None)\n",
    "    # Remove all ',' characters\n",
    "    df[1] = df[1].str.replace(',', '')\n",
    "    df[1] = df[1].astype(float)\n",
    "    df = df.drop(columns=0)\n",
    "    df = df.dropna().reset_index(drop=True)\n",
    "    df = df.rename(columns={1:'x', 2:'y', 3:'z'})\n",
    "    # Restructure\n",
    "    rs_df = df.copy()\n",
    "    rs_df['x'] = (df['x'] - df['x'].min())\n",
    "    rs_df['x'] = rs_df['x'] / rs_df['x'].loc[1]\n",
    "    rs_df['y'] = df['y'] - df['y'].min()\n",
    "    # Create image\n",
    "    width = np.sqrt(rs_df.index.shape[0]).astype(int)\n",
    "    height = width\n",
    "    print(f'Width of image: {width} pixels')\n",
    "    thresh = 0.1\n",
    "    x_res = df['x'].loc[1] - df['x'].loc[0]\n",
    "    print(f'{x_res=}')\n",
    "    y_res = df['y'].loc[width] - df['y'].loc[0]\n",
    "    print(f'{y_res=}')\n",
    "    img = np.zeros((height, width))\n",
    "    i = 0\n",
    "    for x in range(width):\n",
    "        for y in range(height):\n",
    "            img[y, x] = df['z'].loc[i]\n",
    "            i += 1\n",
    "    # Visualize as image\n",
    "    fig, ax = plt.subplots(1, 1, tight_layout=True, facecolor='white')\n",
    "    pos = ax.imshow(img, origin='lower')\n",
    "    ax.set_title(plt_path.name)\n",
    "    fig.colorbar(pos)\n",
    "    ax.set_axis_off()\n",
    "    return fig, ax"
   ]
  },
  {
   "cell_type": "code",
   "execution_count": 19,
   "metadata": {},
   "outputs": [
    {
     "name": "stdout",
     "output_type": "stream",
     "text": [
      "Width of image: 12 pixels\n",
      "x_res=44.770679188427835\n",
      "y_res=208.33333333333326\n"
     ]
    },
    {
     "data": {
      "image/png": "[encoded data removed]",
      "text/plain": [
       "<Figure size 640x480 with 2 Axes>"
      ]
     },
     "metadata": {},
     "output_type": "display_data"
    }
   ],
   "source": [
    "dic_path = Path(\n",
    "    r\"C:\\Users\\cgusb\\Research\\mhe-analysis\\data\\DIC_Etz_0800_0000.plt\")\n",
    "fig, ax = plt_as_img(dic_path)"
   ]
  },
  {
   "cell_type": "code",
   "execution_count": 20,
   "metadata": {},
   "outputs": [
    {
     "name": "stdout",
     "output_type": "stream",
     "text": [
      "Width of image: 50 pixels\n",
      "x_res=10.895414650128487\n",
      "y_res=60.0\n"
     ]
    },
    {
     "data": {
      "image/png": "[encoded data removed]",
      "text/plain": [
       "<Figure size 640x480 with 2 Axes>"
      ]
     },
     "metadata": {},
     "output_type": "display_data"
    }
   ],
   "source": [
    "dns_path = Path(\n",
    "    r'C:/Users/cgusb/Research/mhe-analysis/data/'\n",
    "    r'/DNS_onCG_damage_0140_0000.plt'\n",
    ")\n",
    "fig, ax = plt_as_img(dns_path)"
   ]
  }
 ],
 "metadata": {
  "kernelspec": {
   "display_name": "segmentflow-env",
   "language": "python",
   "name": "python3"
  },
  "language_info": {
   "codemirror_mode": {
    "name": "ipython",
    "version": 3
   },
   "file_extension": ".py",
   "mimetype": "text/x-python",
   "name": "python",
   "nbconvert_exporter": "python",
   "pygments_lexer": "ipython3",
   "version": "3.9.5"
  }
 },
 "nbformat": 4,
 "nbformat_minor": 2
}
