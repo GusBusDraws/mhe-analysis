{
 "cells": [
  {
   "cell_type": "markdown",
   "metadata": {},
   "source": [
    "# 09-sandcomp-seg.ipynb"
   ]
  },
  {
   "cell_type": "markdown",
   "metadata": {},
   "source": [
    "This notebook adapts the segmentation workflow developed for IDOX to be used for the compressed F50 sand experiment "
   ]
  },
  {
   "cell_type": "code",
   "execution_count": 2,
   "metadata": {},
   "outputs": [],
   "source": [
    "# Set to False to use matplotlib.pyplot to view 2D images one at a time\n",
    "use_napari = True"
   ]
  },
  {
   "cell_type": "markdown",
   "metadata": {},
   "source": [
    "# Import packages"
   ]
  },
  {
   "cell_type": "code",
   "execution_count": 9,
   "metadata": {},
   "outputs": [
    {
     "name": "stdout",
     "output_type": "stream",
     "text": [
      "The autoreload extension is already loaded. To reload it, use:\n",
      "  %reload_ext autoreload\n"
     ]
    }
   ],
   "source": [
    "# Standard library imports\n",
    "from pathlib import Path\n",
    "import sys\n",
    "# Third-party imports\n",
    "import matplotlib.pyplot as plt\n",
    "if use_napari:\n",
    "    import napari\n",
    "import numpy as np\n",
    "import skimage.filters\n",
    "# Local module imports\n",
    "module_path = str(Path.cwd().parent)\n",
    "if module_path not in sys.path:\n",
    "    sys.path.append(module_path)\n",
    "import segment\n",
    "# Enable autoreload packages for changes made to local modules\n",
    "%load_ext autoreload\n",
    "%autoreload 2"
   ]
  },
  {
   "cell_type": "markdown",
   "metadata": {},
   "source": [
    "# Load 3D data"
   ]
  },
  {
   "cell_type": "code",
   "execution_count": 6,
   "metadata": {},
   "outputs": [
    {
     "name": "stdout",
     "output_type": "stream",
     "text": [
      "Images loaded as 3D array: (248, 1024, 343)\n"
     ]
    }
   ],
   "source": [
    "# Load images as 3D array from a directory containing images\n",
    "imgs = segment.load_images(\n",
    "    Path(module_path) / 'data/SandComp4_18_22/NoComptiff', \n",
    "    return_3d_array=True,\n",
    "    convert_to_float=True,\n",
    "    file_suffix='tiff'\n",
    ")\n",
    "print(f'Images loaded as 3D array: {imgs.shape}')"
   ]
  },
  {
   "cell_type": "code",
   "execution_count": 7,
   "metadata": {},
   "outputs": [],
   "source": [
    "# Show images with napari\n",
    "if use_napari:\n",
    "    # Open napari viewer\n",
    "    viewer = napari.Viewer()"
   ]
  },
  {
   "cell_type": "code",
   "execution_count": 8,
   "metadata": {},
   "outputs": [
    {
     "data": {
      "text/plain": [
       "<Image layer 'imgs' at 0x242664df7c0>"
      ]
     },
     "execution_count": 8,
     "metadata": {},
     "output_type": "execute_result"
    }
   ],
   "source": [
    "viewer.add_image(imgs)"
   ]
  },
  {
   "cell_type": "markdown",
   "metadata": {},
   "source": [
    "# Binarize data"
   ]
  },
  {
   "cell_type": "code",
   "execution_count": null,
   "metadata": {},
   "outputs": [],
   "source": [
    "def binarize_multiotsu(imgs, n_regions):\n",
    "    for i in range(imgs.shape[0]):\n",
    "        img = imgs[i, :, :]\n",
    "        thresh_vals = skimage.filters.threshold_multiotsu(img, n_regions - 1)\n",
    "        \n",
    "\n",
    "\n",
    "def multiotsu(img, nthresh):\n",
    "    thresh_vals = skimage.filters.threshold_multiotsu(img, nthresh)\n",
    "    thresh_img = np.zeros_like(img, dtype=np.float32)\n",
    "    for i, val in enumerate(thresh_vals):\n",
    "        thresh_img[img > val] = 1 / (nthresh - 1) * (i + 1)\n",
    "    return thresh_img, thresh_vals \n",
    "    "
   ]
  }
 ],
 "metadata": {
  "interpreter": {
   "hash": "2f9fcb20087b7af2829bf0abbacbe7806b917b04bec25a5e9393fe507dcd2d8e"
  },
  "kernelspec": {
   "display_name": "Python 3.9.5 64-bit (system)",
   "language": "python",
   "name": "python3"
  },
  "language_info": {
   "codemirror_mode": {
    "name": "ipython",
    "version": 3
   },
   "file_extension": ".py",
   "mimetype": "text/x-python",
   "name": "python",
   "nbconvert_exporter": "python",
   "pygments_lexer": "ipython3",
   "version": "3.9.5"
  },
  "orig_nbformat": 4
 },
 "nbformat": 4,
 "nbformat_minor": 2
}
